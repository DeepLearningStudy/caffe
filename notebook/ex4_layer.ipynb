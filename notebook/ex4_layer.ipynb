{
 "metadata": {
  "name": ""
 },
 "nbformat": 3,
 "nbformat_minor": 0,
 "worksheets": [
  {
   "cells": [
    {
     "cell_type": "heading",
     "level": 2,
     "metadata": {},
     "source": [
      "'layer' in Caffe"
     ]
    },
    {
     "cell_type": "raw",
     "metadata": {},
     "source": [
      "\uc9c0\ub09c \uac15\uc88c\uc5d0\uc11c\ub294 Caffe\uc758 \uae30\ubcf8 \ub370\uc774\ud130 \uad6c\uc870\uc778 blob\uc5d0 \ub300\ud574\uc11c, \uadf8\ub9ac\uace0 MNIST \ub370\uc774\ud130\uc14b\uc5d0 \ub300\ud574\uc11c \uc54c\uc544\ubcf4\uc558\uc2b5\ub2c8\ub2e4. \uc774\uc81c\ub294 \ubcf8\uaca9\uc801\uc778 \ub274\ub7f4\ub137 \ubaa8\ub378\uc744 \ub9cc\ub4e4\uae30 \uc704\ud55c \ud575\uc2ec \ube4c\ub529\ube14\ub85d\uc778 layer\uc5d0 \ub300\ud574 \uc54c\uc544\ubcfc\ud150\ub370\uc694. \uc774\ubc88 \uc2dc\uac04\uc5d0\ub294 argmax layer \uac04\ub2e8\ud55c \uc608\ub97c \ud1b5\ud574 layer\uc640 blob\uc758 \uad00\uacc4\ub97c \uc54c\uc544\ubcf4\uace0, \ub2e4\uc74c \uc2dc\uac04\uc5d0\ub294 layer \uad6c\uc870\ub97c \uc774\uc6a9\ud558\uc5ec MNIST \ub370\uc774\ud130\uc14b\uc744 \ud55c\ubc88 \ud559\uc2b5\ud574 \ubcf4\ub3c4\ub85d \ud558\uaca0\uc2b5\ub2c8\ub2e4. "
     ]
    },
    {
     "cell_type": "heading",
     "level": 3,
     "metadata": {},
     "source": [
      "Layer\ub780?"
     ]
    },
    {
     "cell_type": "markdown",
     "metadata": {},
     "source": [
      "caffe \ubaa8\ub378\uc5d0\uc11c blob\uc774 \ub370\uc774\ud130 \uad6c\uc870\ub77c\uba74 layer\ub294 \uc5f0\uc0b0\uc790\uc5d0 \ud574\ub2f9\ud569\ub2c8\ub2e4. \uc544\ub798 \ubcf4\uc2dc\ub294 \uadf8\ub9bc\ucc98\ub7fc blob\uc744 \uc785\ub825\uc73c\ub85c \ubc1b\uc544\uc11c \ub2e4\uc591\ud55c \uc5f0\uc0b0\uc744 \uc218\ud589\ud558\uace0 \uadf8 \uacb0\uacfc\ub97c blob\uc73c\ub85c \uc800\uc7a5\ud574\uc11c \ub0b4\ubcf4\ub0c5\ub2c8\ub2e4.\n",
      "\n",
      "![\uadf8\ub9bc](http://caffe.berkeleyvision.org/tutorial/fig/layer.jpg)"
     ]
    },
    {
     "cell_type": "markdown",
     "metadata": {},
     "source": [
      "caffe\ub294 \ub2e4\uc591\ud55c \uc885\ub958\uc758 layer\ub97c \uc9c0\uc6d0\ud558\ub294\ub370\uc694, \uc608\ub97c \ub4e4\uc5b4 convolution filter, pooling layer, inner product layer, rectified-linear layer, sigmoid layer, "
     ]
    },
    {
     "cell_type": "heading",
     "level": 3,
     "metadata": {},
     "source": [
      "Logistic Regression Classification"
     ]
    },
    {
     "cell_type": "heading",
     "level": 3,
     "metadata": {},
     "source": [
      "Source code"
     ]
    },
    {
     "cell_type": "code",
     "collapsed": false,
     "input": [
      "MNIST data \ub85c\ub529"
     ],
     "language": "python",
     "metadata": {},
     "outputs": []
    }
   ],
   "metadata": {}
  }
 ]
}