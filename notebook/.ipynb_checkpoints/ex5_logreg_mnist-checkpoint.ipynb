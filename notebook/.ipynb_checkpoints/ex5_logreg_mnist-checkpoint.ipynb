{
 "metadata": {
  "name": ""
 },
 "nbformat": 3,
 "nbformat_minor": 0,
 "worksheets": [
  {
   "cells": [
    {
     "cell_type": "heading",
     "level": 2,
     "metadata": {},
     "source": [
      "Logistic Regression Classification with MNIST dataset using 'layer' in Caffe"
     ]
    },
    {
     "cell_type": "markdown",
     "metadata": {},
     "source": [
      "\uc9c0\ub09c \uc2dc\uac04\uae4c\uc9c0 Caffe\uc758 \uae30\ubcf8 \uad6c\uc870\uc778 Blob, Layer\uc5d0 \ub300\ud574 \uc54c\uc544\ubcf4\uc558\uc2b5\ub2c8\ub2e4. \uadf8\ub9ac\uace0 \uc55e\uc73c\ub85c \uc790\uc8fc \uc0ac\uc6a9\ud558\uac8c \ub420 MNIST \ub370\uc774\ud130\uc14b\uc5d0 \ub300\ud574\uc11c\ub3c4 \uc0b4\ud3b4\ubcf4\uc558\uc2b5\ub2c8\ub2e4. \uc774\ubc88 \uc2dc\uac04\ubd80\ud130\ub294 \ubcf8\uaca9\uc801\uc73c\ub85c \ub124\ud2b8\uc6cc\ud06c \ubaa8\ub378\uc744 \ud559\uc2b5\ud558\uace0 \uc8fc\uc5b4\uc9c4 \ub370\uc774\ud130\uc758 \ub77c\ubca8\uc744 \uc608\uce21\ud558\ub294 \uad50\uc0ac\ud559\uc2b5 (supervised learning)\uc744 Caffe\ub97c \uc774\uc6a9\ud558\uc5ec \uad6c\ud604\ud574 \ubcf4\uaca0\uc2b5\ub2c8\ub2e4."
     ]
    },
    {
     "cell_type": "markdown",
     "metadata": {},
     "source": [
      "supervised learning, unsupervised learning, classification, regression \ub4f1 \uba38\uc2e0\ub7ec\ub2dd\uc5d0 \ub300\ud55c \uae30\ubcf8\uc801\uc778 \uc6a9\uc5b4 \uc124\uba85\uc740 \uc0dd\ub7b5\ud569\ub2c8\ub2e4. \ub525\ub7ec\ub2dd\uc744 \uc704\ud55c \uba38\uc2e0\ub7ec\ub2dd \uae30\ucd08\ub294 Bengio \uadf8\ub8f9\uc758 [Deeplearning Book](http://www.deeplearningbook.org/)\ub97c \ucd94\ucc9c\ud569\ub2c8\ub2e4."
     ]
    },
    {
     "cell_type": "heading",
     "level": 3,
     "metadata": {},
     "source": [
      "Online Linear Regression"
     ]
    },
    {
     "cell_type": "markdown",
     "metadata": {},
     "source": [
      "\uc774\ubc88\uc5d0 \uad6c\ud604\ud560 \ubaa8\ub378\uc740 Logistic Regression Classifier \uc778\ub370\uc694, \uba3c\uc800 \uae30\ubcf8\uc774 \ub418\ub294 \uc120\ud615\ud68c\uae30(linear regression)\uc5d0 \ub300\ud574 \uac04\ub2e8\ud788 \uc54c\uc544\ubcf4\uae30\ub85c \ud558\uaca0\uc2b5\ub2c8\ub2e4. D\ucc28\uc6d0\uc758 N\uac1c\uc758 \ub370\uc774\ud130\ub97c \uac00\uc9c0\ub294 \uc785\ub825 \uba54\ud2b8\ub9ad\uc2a4 <img src=\"http://mathurl.com/zj4tfxg.png\"> \uc640 \uac01 \ub370\uc774\ud130\uc5d0 \ub530\ub978 \ud558\ub098\uc758 \uc2e4\uc218\uac12\uc744 \uac00\uc9c0\ub294 \ucd9c\ub825 \ubca1\ud130 <img src=\"http://mathurl.com/gphjxm2.png\">\uac00 \uc788\uc744 \ub54c, \uc120\ud615\ud68c\uae30\ub294 \uc785\ub825\uacfc \ucd9c\ub825 \uc0ac\uc774\uc758 \uc120\ud615\ubcc0\ud658 \uad00\uacc4\ub97c \ub098\ud0c0\ub0b4\ub294 D\ucc28\uc6d0\uc758 \ubcc0\uc218\uac12 <img src=\"http://mathurl.com/hcwe8jv.png\"> \ub97c \uad6c\ud558\ub294 \uac83\uc785\ub2c8\ub2e4. "
     ]
    },
    {
     "cell_type": "markdown",
     "metadata": {},
     "source": [
      "\uc774 \ubb38\uc81c\ub294 \ub2e4\uc74c\uacfc \uac19\uc740 loss function\uc744 \ucd5c\uc18c\ud654 \ud558\ub294 w\ub97c \uad6c\ud558\ub294 \ubb38\uc81c\ub85c, \ucd5c\uc18c\uc790\uc2b9\ubc95\uc744 \uc0ac\uc6a9\ud558\uc5ec \uac04\ub2e8\ud788 \uad6c\ud560 \uc218 \uc788\uc2b5\ub2c8\ub2e4. "
     ]
    },
    {
     "cell_type": "markdown",
     "metadata": {},
     "source": [
      "<img src=\"http://mathurl.com/hjlsywf.png\">"
     ]
    },
    {
     "cell_type": "markdown",
     "metadata": {},
     "source": [
      "\ud558\uc9c0\ub9cc, X\uc758 \uac12 \uc804\uccb4\ub97c \ubbf8\ub9ac \uc54c \uc218 \uc5c6\uc744 \ub54c, \ub610\ub294 X\uc758 \uac12\uc774 \ub108\ubb34 \ucee4\uc11c \uba54\ud2b8\ub9ad\uc2a4 \uc5f0\uc0b0\uc774 \uac00\ub2a5\ud55c \uba54\ubaa8\ub9ac \uc6a9\ub7c9\uc744 \ub118\uc5b4\uc11c\uac8c \ub420\ub54c\ub294 \ucd5c\uc18c\uc790\uc2b9\ubc95\uc73c\ub85c \uad6c\ud560 \uc218 \uc5c6\uc2b5\ub2c8\ub2e4. \uc774\ub7f0 \uacbd\uc6b0 \uc218\uce58\ud574\uc11d\uc801\uc778 \ubc29\ubc95\uc73c\ub85c \ud480\uc218\uac00 \uc788\ub294\ub370\uc694, \uc774\ub97c online learning \uc774\ub77c\uace0 \ud558\uba70, \uac00\uc7a5 \ub110\ub9ac \uc0ac\uc6a9\ub418\ub294 \ubc29\ubc95\uc73c\ub85c\ub294 gradient descent algorithm \uc774 \uc788\uc2b5\ub2c8\ub2e4. \ub274\ub7f4\ub124\ud2b8\uc6cc\ud06c \ubaa8\ub378\uc758 \uae30\ubcf8\uc774 \ub418\ub294 \ubc29\ubc95\uc774\uae30\ub3c4 \ud558\uba70, \uc120\ud615\ud68c\uae30 \ubb38\uc81c\uc5d0\uc11c\ub294 \uc704\uc758 loss function\uc774 \ud558\ub098\uc758 global optima\ub97c \uac00\uc9c0\ubbc0\ub85c gradient descent \ubc29\ubc95\uc73c\ub85c \ucd5c\uc801\uc758 \ud574\ub97c \ucc3e\uc744 \uc218 \uc788\uc2b5\ub2c8\ub2e4. "
     ]
    },
    {
     "cell_type": "markdown",
     "metadata": {},
     "source": [
      "gradient descent \ubc29\ubc95\uc740 \uac04\ub2e8\ud558\uac8c \ub2e4\uc74c\uacfc \uac19\uc774 \uc124\uba85\ud560 \uc218 \uc788\uc2b5\ub2c8\ub2e4. \ubaa8\ub4e0 w \uac12\uc744 \uc784\uc758\uc758 \uac12\uc73c\ub85c \ucd08\uae30\ud654\ud55c \ub2e4\uc74c, \uac01 \ub370\uc774\ud130\uac00 \ub4e4\uc5b4\uc62c \ub54c\ub9c8\ub2e4, \ud604\uc7ac w\uac12\uc758 \ubcc0\ud654\uc5d0 \ub530\ub978 loss function\uc758 \ubcc0\ud654\ub7c9 (gradient)\ub97c \uacc4\uc0b0\ud569\ub2c8\ub2e4."
     ]
    },
    {
     "cell_type": "markdown",
     "metadata": {},
     "source": [
      "<img src=\"http://mathurl.com/zu2qcve.png\">"
     ]
    },
    {
     "cell_type": "markdown",
     "metadata": {},
     "source": [
      "\uadf8 \uc774\ud6c4\uc5d0, \uac01 w \uac12\uc744 \ub2e4\uc74c \uc5c5\ub370\uc774\ud2b8 \ub8f0\uc5d0 \ub530\ub77c \uac31\uc2e0\ud569\ub2c8\ub2e4. \uc5ec\uae30\uc11c <img src=\"http://mathurl.com/hur47e2.png\"> \uac12\uc740 learning rate\uc774\ub77c\uace0 \ud558\uba70 1\ubcf4\ub2e4 \uc791\uc740 \uac12\uc744 \ucde8\ud569\ub2c8\ub2e4. "
     ]
    },
    {
     "cell_type": "markdown",
     "metadata": {},
     "source": [
      "<img src=\"http://mathurl.com/zhnolvv.png\">"
     ]
    },
    {
     "cell_type": "markdown",
     "metadata": {},
     "source": [
      "\uc704\uc758 \uacfc\uc815\uc744 w\uac12\uc774 \ud2b9\uc815 \uac12\uc5d0 \uc218\ub834\ud560\ub54c\uae4c\uc9c0 \ubaa8\ub4e0 \ub370\uc774\ud130\uc5d0 \ub300\ud574\uc11c \ubc18\ubcf5\uc801\uc73c\ub85c \uc218\ud589\ud569\ub2c8\ub2e4. \ucc38\uace0\ub85c, \ub370\uc774\ud130 \ud558\ub098\ub9c8\ub2e4 w\uac12\uc744 \uc5c5\ub370\uc774\ud2b8 \ud558\ub294 \uac83\uc744 incremental learning \uc774\ub77c\uace0 \ud558\uace0, \ubaa8\ub4e0 \ub370\uc774\ud130\uc5d0 \ub300\ud55c gradient\ub97c \ubaa8\uc558\ub2e4\uac00 \ud55c\ubc88\uc5d0 w\uac12\uc744 \uac31\uc2e0\ud558\ub294 \ubc29\ubc95\uc744 batch learning, \uadf8\ub9ac\uace0 \ud55c\uc815\ub41c \uc218 \ub9cc\ud07c\uc758 \ub370\uc774\ud130\uc5d0 \ub300\ud55c gradient\ub97c \ubaa8\uc558\ub2e4\uac00 \uac31\uc2e0\ud558\ub294 \ubc29\ubc95\uc744 mini-batch learning \uc774\ub77c\uace0 \ud569\ub2c8\ub2e4. \uc790\uc138\ud55c \ub0b4\uc6a9\uc740 Sarle, Warren, S(2002)\uc758 [Neural Network FAQ2](ftp://ftp.sas.com/pub/neural/FAQ2.html)\ub97c \ucc38\uace0\ud558\uc138\uc694."
     ]
    },
    {
     "cell_type": "heading",
     "level": 3,
     "metadata": {},
     "source": [
      "Logistic Regression Model"
     ]
    },
    {
     "cell_type": "markdown",
     "metadata": {},
     "source": [
      "\uc55e\uc5d0\uc11c \uc54c\uc544\ubcf8 Logistic Regression\uc740 \uc2e4\uc218\uac12\uc744 \ucd9c\ub825\uc73c\ub85c \uac16\ub294 \ud68c\uae30\ubd84\uc11d\ubc95\uc785\ub2c8\ub2e4. \ud558\uc9c0\ub9cc \uc774\ub97c \uc774\uc6a9\ud574\uc11c \ubd84\ub958\uae30\ub85c \uc0ac\uc6a9\ud560 \uc218 \uc788\ub294\ub370\uc694. \ucd9c\ub825\uac12\uc774 \uac01 \ub370\uc774\ud130\uc758 \ub77c\ubca8\uc744 \ub098\ud0c0\ub0b4\uace0\uc790 \ud560 \ub54c, regression\uc758 \ucd9c\ub825\uc740 \uac01 \uce74\ud14c\uace0\ub9ac\uac00 \ub77c\ubca8\uc774 \ub420 \ud655\ub960\uac12\uc774 \ub429\ub2c8\ub2e4. 0\uacfc 1\uc0ac\uc774\uc758 \ud655\ub960\uac12\uc744 \ucd9c\ub825\uc73c\ub85c \ub098\ud0c0\ub0b4\ub294 regression \ubaa8\ub378\uc744 \ub9cc\ub4e4\uae30 \uc704\ud574\uc11c, logistic function\uc774\ub77c\uace0 \ubd80\ub974\ub294 \ube44\uc120\ud615 \ud568\uc218\ub97c \uc704\uc5d0\uc11c \ubcf8 linear regression \ub4a4\uc5d0 \ubd99\uc774\uba74 \ub418\ub294\ub370\uc694. \uc218\uc2dd\uc73c\ub85c \ud45c\ud604\ud558\uba74 \ub2e4\uc74c\uacfc \uac19\uc774 \ub450 \ub2e8\uacc4\ub85c \ud45c\ud604\ub429\ub2c8\ub2e4. "
     ]
    },
    {
     "cell_type": "markdown",
     "metadata": {},
     "source": [
      "<img src=\"http://mathurl.com/jlhcnub.png\">"
     ]
    },
    {
     "cell_type": "markdown",
     "metadata": {},
     "source": [
      "<img src=\"http://mathurl.com/zdoe89f.png\">"
     ]
    },
    {
     "cell_type": "markdown",
     "metadata": {},
     "source": [
      "<img src=\"http://mathurl.com/zqrgbfk.png\">"
     ]
    },
    {
     "cell_type": "markdown",
     "metadata": {},
     "source": [
      "\uc55e\uc758 \uc608\uc81c\uc5d0\uc11c \uc54c\uc544\ubcf8 Caffe\uc758 layer\ub97c \uc0ac\uc6a9\ud558\uba74, \uc704\uc758 \uc120\ud615 \ubcc0\ud658, \ube44\uc120\ud615 logistic \ud568\uc218\ub85c \uc774\ub8e8\uc5b4\uc9c4 \ub450 \ub2e8\uacc4\ub97c \ub450 \uce35\uc758 layer\ub97c \uc774\uc6a9\ud558\uc5ec \ub098\ud0c0\ub0bc \uc218 \uc788\uc2b5\ub2c8\ub2e4. \ubc14\ub85c \uc544\ub798\uc640 \uac19\uc740 inner product layer \uc640 softmax loss layer \uc785\ub2c8\ub2e4. "
     ]
    },
    {
     "cell_type": "markdown",
     "metadata": {},
     "source": [
      "<img src=\"https://raw.githubusercontent.com/DeepLearningStudy/caffe/master/notebook/logreg.jpg\" alt=\"Drawing\" style=\"width: 200px;\"/>"
     ]
    },
    {
     "cell_type": "markdown",
     "metadata": {},
     "source": [
      "\uc704\uc758 \uadf8\ub798\ud504\uc5d0\uc11c \ud30c\ub780\uc0c9 \uc0ac\uac01\ud615\uc740 layer\ub97c, \ub178\ub780\uc0c9 \ud314\uac01\ud615\uc740 blob\uc744 \ub098\ud0c0\ub0b4\ub294\ub370\uc694, inner product (ip) layer\ub294 \ub370\uc774\ud130\ub97c bottom blob\uc73c\ub85c \ud558\uace0, \uc704\uc758 \uc218\uc2dd\uc5d0\uc11c g(x)\uac12\uc778 ip\ub77c\ub294 top blob\uc744 \uc0dd\uc131\ud569\ub2c8\ub2e4. ip layer \uc548\uc5d0 \ud30c\ub77c\ubbf8\ud130 blob\uc73c\ub85c\ub294 \uc120\ud615\ubcc0\ud658\uc744 \ub098\ud0c0\ub0b4\ub294 w\uc640 b\ub97c \uac00\uc9c0\uace0 \uc788\uc2b5\ub2c8\ub2e4. \uc5ec\uae30\uc11c multi-class\uc778 \uacbd\uc6b0 (\uc989 MNIST \ub370\uc774\ud130\ub294 10\uac1c\uc758 class), class\uc758 \uac2f\uc218(m)\ub9cc\ud07c\uc758 ip \uac12\uc744 \ucd9c\ub825 \uac00\uc9c0\ub294\ub370\uc694. \ub530\ub77c\uc11c w\ub294 dxm \uc758 \uba54\ud2b8\ub9ad\uc2a4\ub85c \ud45c\ud604\uc774 \ub429\ub2c8\ub2e4. "
     ]
    },
    {
     "cell_type": "markdown",
     "metadata": {},
     "source": [
      "softmax loss layer\ub294 m\ucc28\uc6d0\uc758 ip \uac12\uc744 \uccab \ubc88\uc9f8 bottom blob\uc73c\ub85c \ud558\uace0 label\uc744 \ub450 \ubc88\uc9f8 bottom blob\uc73c\ub85c \ud569\ub2c8\ub2e4. ip\uac12\uc740 \uac01 class \ubcc4\ub85c \uc704\uc758 h(z) \ub2e8\uacc4\ub97c \uac70\uccd0\uc11c \uac01 class\uc5d0 \ub300\ud55c \ucd94\uc815 \ud655\ub960\uc744 \uacc4\uc0b0\ud558\uac8c \ub418\uad6c\uc694, \uadf8 \uc911\uc5d0\uc11c \uac00\uc7a5 \ud070 \uac12\uc744 \uac00\uc9c0\ub294 class\uac00 \ubc14\ub85c \ucd94\uc815\ub41c label \uac12\uc774 \ub429\ub2c8\ub2e4. \uc774\ub807\uac8c softmax loss layer\uc5d0\uc11c \ucd94\uc815\ub41c label\uacfc MNIST training data\uc5d0\uc11c \uc815\uc758\ub41c label\uc744 \ube44\uad50\ud558\uc5ec loss\ub97c \uacc4\uc0b0\ud569\ub2c8\ub2e4."
     ]
    },
    {
     "cell_type": "heading",
     "level": 3,
     "metadata": {},
     "source": [
      "Forward pass and Backward pass"
     ]
    },
    {
     "cell_type": "markdown",
     "metadata": {},
     "source": [
      "\uc55e\uc5d0 \uac15\uc758\uc5d0\uc11c layer\ub294 forward pass, backward pass\ub97c \uacc4\uc0b0\ud560 \uc218 \uc788\ub2e4\ub294 \uac83\uc744 \ubc30\uc6e0\ub294\ub370\uc694, LogReg \ubaa8\ub378\uc5d0\uc11c \ub450 \uacfc\uc815\uc774 \uc5b4\ub5bb\uac8c \uacc4\uc0b0\uc774 \ub418\ub294\uc9c0 \uc54c\uc544\ubcf4\uaca0\uc2b5\ub2c8\ub2e4. "
     ]
    },
    {
     "cell_type": "markdown",
     "metadata": {},
     "source": [
      "<img src=\"http://caffe.berkeleyvision.org/tutorial/fig/forward.jpg\" style=\"width: 200px;\"/>\n",
      "<img src=\"http://caffe.berkeleyvision.org/tutorial/fig/backward.jpg\" style=\"width: 200px;\"/>"
     ]
    },
    {
     "cell_type": "markdown",
     "metadata": {},
     "source": [
      "\uccab \ubc88\uc9f8 \uadf8\ub9bc\uc740 \uc55e\uc11c \uc124\uba85\ud55c \ub370\uc774\ud130\ub85c\ubd80\ud130 g(x), h(z) \ub450 \uc2dd\uc744 \uc774\uc6a9\ud558\uc5ec loss\ub97c \uad6c\ud558\ub294 forward \uacfc\uc815\uc744 \ub098\ud0c0\ub0b4\ub294 \uadf8\ub9bc\uc785\ub2c8\ub2e4. \uc5ec\uae30\uc11c \ub450 \ubc88\uc9f8 \uadf8\ub9bc\uc778 backward \uacfc\uc815\uc744 \ub208\uc5ec\uaca8 \ubcfc\uae4c \ud569\ub2c8\ub2e4. \uba3c\uc800 forward pass\ub85c \ubd80\ud130 loss <img src=\"http://mathurl.com/zkay5c3.png\">\uac00 \uad6c\ud574\uc9c4 \uc774\ud6c4\uc5d0, \uac01 class \ubcc4 \ud655\ub960\uac12\uc778 h(z)\uc5d0 \ub530\ub978 loss\uc758 \ubcc0\ud654\ub7c9 softmax gradient(<img src=\"http://mathurl.com/gl54ebu.png\">)\ub97c \uacc4\uc0b0\ud560 \uc218 \uc788\uc2b5\ub2c8\ub2e4. MNIST dataset \uc778 \uacbd\uc6b0\uc5d0\ub294 1\uac1c\uc758 loss\ub85c\ubd80\ud130 10\uac1c\uc758 <img src=\"http://mathurl.com/gl54ebu.png\">\uac00 \uad6c\ud574\uc9c0\uaca0\uc8e0. "
     ]
    },
    {
     "cell_type": "markdown",
     "metadata": {},
     "source": [
      "\uac01 softmax gradient\ub85c\ubd80\ud130 \uc785\ub825 \ub370\uc774\ud130\uc758 \ucc28\uc6d0\uc218 \ub9cc\ud07c\uc758 weight \uac12\ub4e4\uc758 gradient\uac00 \uacc4\uc0b0\ub420 \uc218 \uc788\ub294\ub370\uc694. \uc774\ub97c <img src=\"http://mathurl.com/j5r3uju.png\">\ub77c\uace0 \ud558\uba74, \uac01 weight\uc5d0 \ub530\ub978 loss\uc758 \ubcc0\ud654\ub7c9\uc740 \ub2e4\uc74c\uacfc \uac19\uc740 chain rule \uc5d0 \uc758\ud574 \uad6c\ud560 \uc218 \uc788\uc2b5\ub2c8\ub2e4. "
     ]
    },
    {
     "cell_type": "markdown",
     "metadata": {},
     "source": [
      "<img src=\"http://mathurl.com/gvogf6p.png\">"
     ]
    },
    {
     "cell_type": "markdown",
     "metadata": {},
     "source": [
      "\uc774\ub807\uac8c \uc5bb\uc5b4\uc9c4 \uac01 weight\uc758 gradient\ub294 \uc55e\uc5d0\uc11c \uc18c\uac1c\ud55c weight update rule (<img src=\"http://mathurl.com/h4skdg3.png\">)\uc5d0 \uc758\ud574 weight\ub97c \uac31\uc2e0\ud569\ub2c8\ub2e4."
     ]
    },
    {
     "cell_type": "markdown",
     "metadata": {},
     "source": [
      "Caffe\uc758 layer\uc5d0\uc11c `Backward()` \ud568\uc218\ub294 \uc774\ub807\uac8c \uacc4\uc0b0\ub41c \uac01 weight\uc758 gradient (<img src=\"http://mathurl.com/hmh9r72.png\">)\ub97c layer\uc758 `diff` \ubcc0\uc218\uc5d0 \uc800\uc7a5\ud569\ub2c8\ub2e4. \uadf8\ub9ac\uace0 `Update()` \uba85\ub839\uc744 \ud1b5\ud574 weight update rule\uc744 \uc2e4\ud589\ud558\uac8c \ub429\ub2c8\ub2e4. "
     ]
    },
    {
     "cell_type": "heading",
     "level": 2,
     "metadata": {},
     "source": [
      "Example source code"
     ]
    },
    {
     "cell_type": "markdown",
     "metadata": {},
     "source": [
      "\uc55e\uc5d0\uc11c \uc124\uba85\ud55c LogReg \ubaa8\ub378\uc744 Caffe\uc758 layer\ub97c \uc774\uc6a9\ud574\uc11c \uc9c1\uc811 \uad6c\ud604\ud574\ubcf4\uace0, MNIST training dataset\uc744 \uc774\uc6a9\ud574 \ud559\uc2b5\ud558\uace0 test dataset\uc744 \ud1b5\ud574 \ubaa8\ub378\uc758 \uc608\uce21 \uc815\ud655\ub3c4\ub97c \uce21\uc815\ud574 \ubd05\uc2dc\ub2e4. \uba3c\uc800 \uae43\ud5d9\uc5d0 \uc788\ub294 [ex5_logreg_mnist](https://github.com/DeepLearningStudy/caffe/tree/master/examples/ex5_logreg_mnist) \uc900\ube44\ud569\ub2c8\ub2e4. [ex_logreg_mnist.cpp](https://github.com/DeepLearningStudy/caffe/blob/master/examples/ex5_logreg_mnist/ex_logreg_mnist.cpp) \ud30c\uc77c\uc758 main \ud568\uc218\ub97c \ubcf4\uba74\uc11c \uc124\uba85\uc744 \uad6c\ud604 \uacfc\uc815\uc744 \uc124\uba85 \ud558\uaca0\uc2b5\ub2c8\ub2e4.  "
     ]
    },
    {
     "cell_type": "heading",
     "level": 3,
     "metadata": {},
     "source": [
      "Data layer"
     ]
    },
    {
     "cell_type": "markdown",
     "metadata": {},
     "source": [
      "\uc704\uc758 LogReg \ubaa8\ub378\uc5d0\uc11c \uac00\uc7a5 \uc544\ub798\uc5d0 \uc788\ub294 layer\ub294 data layer \uc785\ub2c8\ub2e4. \uc774 \ub808\uc774\uc5b4\uc758 \uc5ed\ud560\uc740 lmdb \ub610\ub294 leveldb\ub85c \uc815\uc758\ub41c \ub370\uc774\ud130 \ud30c\uc77c\uc744 \uc77d\uc5b4\uc640\uc11c blob\uc73c\ub85c \uc800\uc7a5\ud558\uace0, top blob\uc73c\ub85c \uc785\ub825 \ub370\uc774\ud130 x\uc640 \ucd9c\ub825 \ub370\uc774\ud130 y\uc744 \ubd84\ub9ac\ud574\uc11c \ub450 \uac1c\uc758 top blob\uc73c\ub85c \uc0dd\uc131\ud569\ub2c8\ub2e4. \ub610\ud55c \uc81c\ud55c\ub41c \uba54\ubaa8\ub9ac\uc5d0 \ub2e4 \uc800\uc7a5\ud558\uc9c0 \ubabb\ud558\ub294 \uc591\uc774 \ub9ce\uc740 \ub370\uc774\ud130\uc778 \uacbd\uc6b0\ub97c \uc704\ud574, batch_size \ub9cc\ud07c\uc758 \ub370\uc774\ud130\ub97c \ub80c\ub364\ud558\uac8c \uace8\ub77c\uc11c \ud55c\uc815\ub41c \ud06c\uae30\uc758 blob\uc744 \ub9cc\ub4e4 \uc218\ub3c4 \uc788\uad6c\uc694, \ub370\uc774\ud130\ub97c \ucd9c\ub825\ud558\uae30 \uc804\uc5d0 \uc2a4\ucf00\uc77c\ub9c1 \ud558\uae30\ub3c4 \ud569\ub2c8\ub2e4. "
     ]
    },
    {
     "cell_type": "markdown",
     "metadata": {},
     "source": [
      "\uc55e\uc120 \uac15\uc88c\uc5d0\uc11c layer\ub97c \uc815\uc758\ud558\ub294 \ubc29\ubc95\uc740 \uc54c\uc544\ubcf4\uc558\uc73c\ub2c8, data layer\uc758 \uacbd\uc6b0\uc5d0\ub9cc \ud574\ub2f9\ud558\ub294 \ub808\uc774\uc5b4 \ud30c\ub77c\ubbf8\ud130 \ubd80\ubd84\uc744 \uc0b4\ud3b4\ubcf4\ub3c4\ub85d \ud558\uaca0\uc2b5\ub2c8\ub2e4. "
     ]
    },
    {
     "cell_type": "markdown",
     "metadata": {},
     "source": [
      "```\n",
      "blob_top_data_vec.push_back(blob_data);\n",
      "blob_top_data_vec.push_back(blob_label);\n",
      "\n",
      "LayerParameter layer_data_param;\n",
      "DataParameter* data_param = layer_data_param.mutable_data_param();\n",
      "data_param->set_batch_size(64);\n",
      "data_param->set_source(\"caffe/caffe/examples/mnist/mnist_train_lmdb\");\n",
      "data_param->set_backend(caffe::DataParameter_DB_LMDB);\n",
      "\n",
      "TransformationParameter* transform_param =\n",
      "layer_data_param.mutable_transform_param();\n",
      "transform_param->set_scale(1./255.);\n",
      "\n",
      "DataLayer<Dtype> layer_data(layer_data_param);\n",
      "layer_data.SetUp(blob_bottom_data_vec, blob_top_data_vec);\n",
      "```"
     ]
    },
    {
     "cell_type": "markdown",
     "metadata": {},
     "source": [
      "\uc6b0\uc120 [`DataParameter`](https://github.com/BVLC/caffe/blob/master/src/caffe/proto/caffe.proto#L565-L597)\ub294 \ub370\uc774\ud130\uc14b\uc758 \uc704\uce58\uc640 \ud0c0\uc785, batch \ud06c\uae30\ub97c \uacb0\uc815\ud569\ub2c8\ub2e4. \uc5ec\uae30\uc11c\ub294 \uc55e\uc5d0 [MNIST \uac15\uc88c](http://deeplearningstudy.github.io/material/doc_caffe_example_3mnist.html)\uc5d0\uc11c \uc124\uce58\ud55c mnist lmdb \uacbd\ub85c\ub97c \uc9c0\uc815\ud574\uc90d\ub2c8\ub2e4. \uba3c\uc800 \ubaa8\ub378\uc744 \ud559\uc2b5\ud558\uae30 \uc704\ud574 \uc0ac\uc6a9\ud558\ub294 training data\ub85c data layer\ub97c \ub9cc\ub4ed\ub2c8\ub2e4. [`TransformationParameter`](https://github.com/BVLC/caffe/blob/master/src/caffe/proto/caffe.proto#L398-417)\ub294 \ub370\uc774\ud130\ub97c \uc2a4\ucf00\uc77c\ub9c1 \ud560\ub54c \uc0ac\uc6a9\ud569\ub2c8\ub2e4. \uc5ec\uae30\uc11c MNIST \ub370\uc774\ud130\ub294 0~255 \uc0ac\uc774\uc758 \uac12\uc774\ubbc0\ub85c, 0~1\ub85c \uc815\uaddc\ud654 \ud558\uc600\uc2b5\ub2c8\ub2e4."
     ]
    },
    {
     "cell_type": "heading",
     "level": 3,
     "metadata": {},
     "source": [
      "Inner product (ip) layer "
     ]
    },
    {
     "cell_type": "markdown",
     "metadata": {},
     "source": [
      "\ub450 \ubc88\uc9f8\ub85c ip layer\ub97c \ub9cc\ub4e4\uc5b4\ubcf4\uaca0\uc2b5\ub2c8\ub2e4. ip layer\ub294 data layer\uc758 top blob\uc778 `blob_data` \ub97c bottom blob\uc73c\ub85c \ud558\uace0, `blob_top_ip` \ub97c \uc0dd\uc131\ud569\ub2c8\ub2e4."
     ]
    },
    {
     "cell_type": "markdown",
     "metadata": {},
     "source": [
      "```\n",
      "vector<Blob<Dtype>*> blob_bottom_ip_vec;\n",
      "vector<Blob<Dtype>*> blob_top_ip_vec;\n",
      "Blob<Dtype>* const blob_top_ip = new Blob<Dtype>();\n",
      "\n",
      "blob_bottom_ip_vec.push_back(blob_data);\n",
      "blob_top_ip_vec.push_back(blob_top_ip);\n",
      "\n",
      "LayerParameter layer_ip_param;\n",
      "layer_ip_param.mutable_inner_product_param()->set_num_output(nClass);\n",
      "layer_ip_param.mutable_inner_product_param()->mutable_weight_filler()->set_type(\"xavier\");\n",
      "layer_ip_param.mutable_inner_product_param()->mutable_bias_filler()->set_type(\"constant\");\n",
      "\n",
      "InnerProductLayer<Dtype> layer_ip(layer_ip_param);\n",
      "layer_ip.SetUp(blob_bottom_ip_vec, blob_top_ip_vec);\n",
      "```"
     ]
    },
    {
     "cell_type": "markdown",
     "metadata": {},
     "source": [
      "ip layer\uc758 \ucd9c\ub825\uc740 class \uac2f\uc218(10) \ub9cc\ud07c\uc774\uba70, ip layer\uc758 [setting parameter](https://github.com/BVLC/caffe/blob/master/src/caffe/proto/caffe.proto#L736-L756)\ub97c \ud1b5\ud574 weight \ubc0f bias \uac12\uc744 [xavier](http://andyljones.tumblr.com/post/110998971763/an-explanation-of-xavier-initialization) \ubc29\ubc95\uc744 \uc774\uc6a9\ud558\uc5ec \ucd08\uae30\ud654 \ud558\uc600\uc2b5\ub2c8\ub2e4."
     ]
    },
    {
     "cell_type": "heading",
     "level": 3,
     "metadata": {},
     "source": [
      "Softmax loss layer"
     ]
    },
    {
     "cell_type": "markdown",
     "metadata": {},
     "source": [
      "\ub9c8\uc9c0\ub9c9\uc73c\ub85c softmax loss layer\ub97c \uc138\ud305\ud569\ub2c8\ub2e4. \uc704\uc5d0 \uadf8\ub9bc\uc5d0\uc11c \ubcf4\uc2dc\ub294\ub370\ub85c ip layer\uc758 top blob\uacfc data layer\uc758 `blob_label` \uc744 \uc785\ub825\uc73c\ub85c \ud558\uace0, loss \uac12\uc744 `blob_top_loss` blob\uc5d0 \ucd9c\ub825\uc73c\ub85c \uc800\uc7a5\ud569\ub2c8\ub2e4.   "
     ]
    },
    {
     "cell_type": "markdown",
     "metadata": {},
     "source": [
      "```\n",
      "vector<Blob<Dtype>*> blob_bottom_loss_vec;\n",
      "vector<Blob<Dtype>*> blob_top_loss_vec;\n",
      "Blob<Dtype>* const blob_top_loss = new Blob<Dtype>();\n",
      "\n",
      "blob_bottom_loss_vec.push_back(blob_top_ip);\n",
      "blob_bottom_loss_vec.push_back(blob_label);\n",
      "blob_top_loss_vec.push_back(blob_top_loss);\n",
      "\n",
      "LayerParameter layer_loss_param;\n",
      "SoftmaxWithLossLayer<Dtype> layer_loss(layer_loss_param);\n",
      "layer_loss.SetUp(blob_bottom_loss_vec, blob_top_loss_vec);\n",
      "```"
     ]
    },
    {
     "cell_type": "heading",
     "level": 3,
     "metadata": {},
     "source": [
      "Forward and backward pass"
     ]
    },
    {
     "cell_type": "markdown",
     "metadata": {},
     "source": [
      "\ub4dc\ub514\uc5b4 LogReg \ubaa8\ub378\uc774 \ub9cc\ub4e4\uc5b4\uc84c\uc2b5\ub2c8\ub2e4. \uc774\uc81c\ub294 \uc774 \ubaa8\ub378\uc744 \ud559\uc2b5\ud560 \ucc28\ub840\uc778\ub370\uc694, \ud559\uc2b5\uc740 \uc704\uc5d0\uc11c \uac04\ub7b5\ud788 \uc124\uba85\ud55c\uac83 \ucc98\ub7fc forward, backward, update \uc774 \uc138 \uacfc\uc815\uc744 loss\uac12\uc774 \uc218\ub834\ud560 \ub54c\uae4c\uc9c0 \ubc18\ubcf5\ud569\ub2c8\ub2e4. \uc5ec\uae30\uc11c\ub294 \uac04\ub2e8\ud788 `nIter` \ub9cc\ud07c `for` \ubb38\uc73c\ub85c \ubc18\ubcf5\ud558\ub3c4\ub85d \ud558\uaca0\uc2b5\ub2c8\ub2e4."
     ]
    },
    {
     "cell_type": "markdown",
     "metadata": {},
     "source": [
      "```\n",
      "for(int n=0;n<nIter;n++){\n",
      "   // forward\n",
      "   layer_data.Forward(blob_bottom_data_vec, blob_top_data_vec);\n",
      "   layer_ip.Forward(blob_bottom_ip_vec, blob_top_ip_vec);\n",
      "   Dtype loss = layer_loss.Forward(blob_bottom_loss_vec, blob_top_loss_vec);\n",
      "   cout<<\"Iter \"<<n<<\" loss \"<<loss<<endl;\n",
      "\n",
      "   // backward\n",
      "   vector<bool> backpro_vec;\n",
      "   backpro_vec.push_back(1);\n",
      "   backpro_vec.push_back(0);\n",
      "   layer_loss.Backward(blob_top_loss_vec, backpro_vec, blob_bottom_loss_vec);\n",
      "   layer_ip.Backward(blob_top_ip_vec, backpro_vec, blob_bottom_ip_vec);\n",
      "\n",
      "   // update weights of layer_ip\n",
      "   Dtype rate = 0.1;\n",
      "   vector<shared_ptr<Blob<Dtype> > > param = layer_ip.blobs();\n",
      "   caffe_scal(param[0]->count(), rate, param[0]->mutable_cpu_diff());\n",
      "   param[0]->Update();\n",
      "}\n",
      "```"
     ]
    },
    {
     "cell_type": "markdown",
     "metadata": {},
     "source": [
      "\uc2e4\ud589\uacb0\uacfc\ub97c \ubcf4\uba74 \ub2e4\uc74c\uacfc \uac19\uc774 iteration\uc774 \uc9c4\ud589\ub420 \uc218\ub85d loss\uac12\uc774 \uc904\uc5b4\ub4dc\ub294 \uac83\uc744 \ubcfc \uc218 \uc788\uc2b5\ub2c8\ub2e4."
     ]
    },
    {
     "cell_type": "markdown",
     "metadata": {},
     "source": [
      "```\n",
      "Iter 0 loss 2.30016\n",
      "Iter 1 loss 2.12608\n",
      "Iter 2 loss 2.19263\n",
      "Iter 3 loss 1.93675\n",
      "Iter 4 loss 1.85901\n",
      "Iter 5 loss 1.75871\n",
      "Iter 6 loss 1.68629\n",
      "Iter 7 loss 1.68272\n",
      "Iter 8 loss 1.64218\n",
      "Iter 9 loss 1.72062\n",
      "Iter 10 loss 1.57099\n",
      "...\n",
      "Iter 100 loss 0.501477\n",
      "Iter 101 loss 0.614108\n",
      "Iter 102 loss 0.401204\n",
      "Iter 103 loss 0.421984\n",
      "Iter 104 loss 0.523702\n",
      "Iter 105 loss 0.487135\n",
      "Iter 106 loss 0.750514\n",
      "Iter 107 loss 0.576815\n",
      "Iter 108 loss 0.639771\n",
      "Iter 109 loss 0.678125\n",
      "Iter 110 loss 0.506516\n",
      "...\n",
      "Iter 1000 loss 0.343701\n",
      "Iter 1001 loss 0.336663\n",
      "Iter 1002 loss 0.595591\n",
      "Iter 1003 loss 0.215748\n",
      "Iter 1004 loss 0.34533\n",
      "Iter 1005 loss 0.305032\n",
      "Iter 1006 loss 0.18276\n",
      "Iter 1007 loss 0.400066\n",
      "Iter 1008 loss 0.132792\n",
      "Iter 1009 loss 0.290646\n",
      "Iter 1010 loss 0.419739\n",
      "...\n",
      "Iter 9990 loss 0.449115\n",
      "Iter 9991 loss 0.549783\n",
      "Iter 9992 loss 0.229075\n",
      "Iter 9993 loss 0.172593\n",
      "Iter 9994 loss 0.322345\n",
      "Iter 9995 loss 0.287676\n",
      "Iter 9996 loss 0.256037\n",
      "Iter 9997 loss 0.263619\n",
      "Iter 9998 loss 0.274014\n",
      "Iter 9999 loss 0.346595\n",
      "```"
     ]
    },
    {
     "cell_type": "markdown",
     "metadata": {},
     "source": [
      "\uc5ec\uae30\uc11c\ub294 batch \uac2f\uc218\ub97c 64\uac1c\ub85c \ud558\uc600\ub294\ub370\uc694, \uadf8 \uac2f\uc218\ub9cc\ud07c data layer\uac00 \uc784\uc758\uc758 \ub370\uc774\ud130\ub97c \ucd94\ucd9c\ud558\uae30 \ub54c\ubb38\uc5d0 60000\uac1c\uc758 MNIST training data\ub97c \ubaa8\ub450 \ub2e4 \ud559\uc2b5\ud558\ub294\ub370 \uc0ac\uc6a9\ud558\uae30 \uc704\ud574\uc11c\ub294 \ucd5c\uc18c 10000\ubc88\uc758 iteration\uc774 \ud544\uc694\ud569\ub2c8\ub2e4. \ud558\uc9c0\ub9cc \ubcf4\uc2dc\ub294\ub370\ub85c 1000\ubc88\uc5d0\uc11c 9999\ubc88 \uc0ac\uc774\uc5d0\ub294 training loss\uc758 \uac10\uc18c\uac00 \uc720\uc758\ubbf8\ud558\uac8c \ubcf4\uc774\uc9c0 \uc54a\uc2b5\ub2c8\ub2e4."
     ]
    },
    {
     "cell_type": "heading",
     "level": 3,
     "metadata": {},
     "source": [
      "MNIST label prediction"
     ]
    },
    {
     "cell_type": "markdown",
     "metadata": {},
     "source": [
      "\uc774\uc81c \ud559\uc2b5\ub41c \ubaa8\ub378\uc744 \uc8fc\uc5b4\uc9c4 MNIST test data\uc5d0 \uc801\uc6a9\ud558\uc5ec \ub77c\ubca8\uc744 \uc608\uce21\ud574\ubcf4\ub3c4\ub85d \ud569\uc2dc\ub2e4. \uc704\uc5d0\uc11c \ub9cc\ub4e4\uc5b4\uc9c4 LogReg \ubaa8\ub378\uc744 \uc0c8\ub85c\uc6b4 \ub370\uc774\ud130\uc14b\uc5d0 \ub9de\uac8c \uc218\uc815\uc744 \ud574\uc57c \ud558\ub294\ub370\uc694, \ud559\uc2b5\ub41c weight, bias \uac12\uc740 \uc720\uc9c0\ud558\uba74\uc11c \ub808\uc774\uc5b4\ub97c \uc7ac\uc870\uc815\ud558\ub294 `Reshape()` \uae30\ub2a5\uc744 \uc0ac\uc6a9\ud569\ub2c8\ub2e4.  "
     ]
    },
    {
     "cell_type": "markdown",
     "metadata": {},
     "source": [
      "\uba3c\uc800 data layer\ub97c \uc0c8\ub85c \ub9cc\ub4ed\ub2c8\ub2e4. \uc774\ubc88\uc5d0\ub294 mnist test lmdb\ub97c \uc785\ub825\uc73c\ub85c \ud558\uace0, batch size\ub97c 10000\uac1c\ub85c \uc870\uc815\ud569\ub2c8\ub2e4."
     ]
    },
    {
     "cell_type": "markdown",
     "metadata": {},
     "source": [
      "```\n",
      "testdata_param->set_batch_size(10000);\n",
      "testdata_param->set_source(\"/home/koosy/caffe/caffe/examples/mnist/mnist_test_lmdb\");\n",
      "testdata_param->set_backend(caffe::DataParameter_DB_LMDB);\n",
      "```"
     ]
    },
    {
     "cell_type": "markdown",
     "metadata": {},
     "source": [
      "\uadf8\ub9ac\uace0 \uc0c8\ub85c\uc6b4 data layer\uc758 \ucd9c\ub825\uc744 \uc785\ub825\uc73c\ub85c \ubc1b\ub294 layer_ip\uc640 layer_loss\ub97c reshaping \ud569\ub2c8\ub2e4."
     ]
    },
    {
     "cell_type": "markdown",
     "metadata": {},
     "source": [
      "```\n",
      "layer_ip.Reshape(blob_bottom_ip_test_vec, blob_top_ip_vec);\n",
      "...\n",
      "layer_loss.Reshape(blob_bottom_loss_test_vec, blob_top_loss_vec);\n",
      "```"
     ]
    },
    {
     "cell_type": "markdown",
     "metadata": {},
     "source": [
      "\ub9c8\uc9c0\ub9c9\uc73c\ub85c, \uc774\uc804 \uac15\uc88c\uc5d0\uc11c \ub2e4\ub8e8\uc5c8\ub358 argmax layer\ub97c ip layer\uc704\uc5d0 \ubd99\uc5ec\uc11c label prediction \uac12\uc744 \ud655\uc778\ud574 \ubcf4\ub3c4\ub85d \ud558\uaca0\uc2b5\ub2c8\ub2e4. "
     ]
    },
    {
     "cell_type": "markdown",
     "metadata": {},
     "source": [
      "```\n",
      "blob_bottom_argmax_vec.push_back(blob_top_ip);\n",
      "blob_top_argmax_vec.push_back(blob_top_argmax);\n",
      "...\n",
      "layer_argmax.SetUp(blob_bottom_argmax_vec, blob_top_argmax_vec);\n",
      "```"
     ]
    },
    {
     "cell_type": "markdown",
     "metadata": {},
     "source": [
      "Prediction\uc740 \uc0c8\ub85c \uc7ac\uad6c\uc131\ub41c layer\ub4e4\uc758 forward \uacfc\uc815\uc744 \ud1b5\ud574 \uacb0\uacfc\ub97c \uc5bb\uc744 \uc218 \uc788\uc2b5\ub2c8\ub2e4. "
     ]
    },
    {
     "cell_type": "markdown",
     "metadata": {},
     "source": [
      "```\n",
      "layer_testdata.Forward(blob_bottom_testdata_vec, blob_top_testdata_vec);\n",
      "layer_ip.Forward(blob_bottom_ip_test_vec, blob_top_ip_vec);\n",
      "layer_argmax.Forward(blob_bottom_argmax_vec, blob_top_argmax_vec);\n",
      "Dtype loss = layer_loss.Forward(blob_bottom_loss_test_vec, blob_top_loss_vec);\n",
      "```"
     ]
    },
    {
     "cell_type": "heading",
     "level": 3,
     "metadata": {},
     "source": [
      "Result"
     ]
    },
    {
     "cell_type": "markdown",
     "metadata": {},
     "source": [
      "\uc774\uc81c 10000\uac1c\uc758 test data \uc911\uc5d0 \uc5bc\ub9c8\ub098 \uc815\ud655\ud558\uac8c \uc815\ub2f5\uc744 \ub9de\ucd94\uc5c8\ub294\uc9c0 \ud55c\ubc88 \ubcf4\ub3c4\ub85d \ud558\uaca0\uc2b5\ub2c8\ub2e4. "
     ]
    },
    {
     "cell_type": "markdown",
     "metadata": {},
     "source": [
      "```\n",
      "for (int n = 0; n<blob_testlabel->count();n++){\n",
      "   cnt ++;\n",
      "   Dtype* label_data = blob_testlabel->mutable_cpu_data();\n",
      "   int truelabel = label_data[n];\n",
      "\n",
      "   Dtype* prediction_data = blob_top_argmax-> mutable_cpu_data();\n",
      "   int predictedlabel = prediction_data[n];\n",
      "\n",
      "   if(truelabel == predictedlabel){\n",
      "      correct++;\n",
      "   }\n",
      "}\n",
      "cout << \"Accuracy: \" << correct <<\"/\" << cnt <<endl;\n",
      "```"
     ]
    },
    {
     "cell_type": "markdown",
     "metadata": {},
     "source": [
      "iteration \ud69f\uc218\uc5d0 \ub530\ub77c\uc11c test loss\uc640 accuracy \ub97c \uc0b4\ud3b4\ubcf4\uba74 \ub2e4\uc74c\uacfc \uac19\uc2b5\ub2c8\ub2e4. "
     ]
    },
    {
     "cell_type": "markdown",
     "metadata": {},
     "source": [
      "```\n",
      "nIter: 100\n",
      "loss: 0.581051\n",
      "Accuracy: 8580/10000\n",
      "\n",
      "nIter: 1000\n",
      "loss: 0.335188\n",
      "Accuracy: 9060/10000\n",
      "\n",
      "nIter: 5000\n",
      "loss: 0.288763\n",
      "Accuracy: 9199/10000\n",
      "\n",
      "nIter: 10000\n",
      "loss: 0.281142\n",
      "Accuracy: 9230/10000\n",
      "\n",
      "nIter: 20000\n",
      "loss: 0.275626\n",
      "Accuracy: 9235/10000\n",
      "\n",
      "nIter: 30000\n",
      "loss: 0.276298\n",
      "Accuracy: 9228/10000\n",
      "```"
     ]
    },
    {
     "cell_type": "markdown",
     "metadata": {},
     "source": [
      "\uc55e\uc5d0\uc11c training loss\ub9cc \uc0b4\ud3b4\ubcf4\uc558\uc744\ub54c\ub294 1000\ubc88\ubd80\ud130 10000\ubc88 \uc0ac\uc774\uc5d0\ub294 loss \uac12\uc774 \uc815\uccb4\ub418\uc5b4 \uc788\ub294\uac83 \ucc98\ub7fc \ubcf4\uc600\uc2b5\ub2c8\ub2e4\ub9cc, test loss\ub97c \uc0b4\ud3b4\ubcf4\ub2c8, 20000\ubc88\uae4c\uc9c0 \uc720\uc758\ubbf8\ud55c \ucc28\uc774\uac00 \uc788\uc74c\uc744 \uc54c \uc218 \uc788\uc2b5\ub2c8\ub2e4. 30000\ubc88\uc77c\ub54c\ub294 \uc624\ud788\ub824 \uadf8 \uacb0\uacfc\uac00 \uc88b\uc9c0 \uc54a\uc74c\uc744 \ubcf4\uc544 over-fitting\uc774 \ub418\uc5c8\uc74c\uc744 \uc54c \uc218 \uc788\uc2b5\ub2c8\ub2e4. \uacb0\uad6d training loss\ub294 1000\ubc88\ucbe4\uc5d0\uc11c \uc218\ub834\ud55c\uac83\ucc98\ub7fc \ubcf4\uc5ec\ub3c4 under-fitting \ub418\uc5b4 \uc788\uc5c8\uace0, 60000\uac1c\uc758 training dataset\uc744 \ubaa8\ub450 \uc148\ud50c\ub9c1\ud55c 20000\ubc88 \uac00\uae4c\uc774\uc5d0\uc11c \ucd5c\uc801\uc758 \ubaa8\ub378\uc774 \ud559\uc2b5\ub418\uc5c8\uc74c\uc744 \uc54c \uc218 \uc788\uc2b5\ub2c8\ub2e4. \uc774\ubc88 \uc608\uc81c\ub97c \ud1b5\ud574 \ub2e4\uc2dc \ud55c\ubc88 cross validataion\uc758 \ud544\uc694\uc131\uc744 \uc54c \uc218 \uc788\uc5c8\ub124\uc694. "
     ]
    },
    {
     "cell_type": "markdown",
     "metadata": {},
     "source": [
      "\ub2e4\uc74c \uac15\uc88c\uc5d0\uc11c\ub294 Convolutional Neural Network \ubaa8\ub378\uc744 \uad6c\ud604\ud574\ubcf4\uace0 MNIST \ub370\uc774\ud130\ub85c \ud559\uc2b5\ud558\uace0 \uacb0\uacfc\ub97c \ube44\uad50\ud574 \ubcf4\uaca0\uc2b5\ub2c8\ub2e4. \uadf8\ub9ac\uace0 python\uc744 \uc774\uc6a9\ud558\uc5ec cross validation \ubc0f \uadf8 \uacb0\uacfc\ub97c \ud655\uc778\ud574\ubcf4\ub294 \uc2dc\uac04\ub3c4 \uac00\uc9c0\ub3c4\ub85d \ud558\uaca0\uc2b5\ub2c8\ub2e4."
     ]
    },
    {
     "cell_type": "code",
     "collapsed": false,
     "input": [],
     "language": "python",
     "metadata": {},
     "outputs": []
    }
   ],
   "metadata": {}
  }
 ]
}