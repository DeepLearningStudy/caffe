{
 "metadata": {
  "name": ""
 },
 "nbformat": 3,
 "nbformat_minor": 0,
 "worksheets": [
  {
   "cells": [
    {
     "cell_type": "heading",
     "level": 2,
     "metadata": {},
     "source": [
      "'layer' in Caffe"
     ]
    },
    {
     "cell_type": "raw",
     "metadata": {},
     "source": [
      "\uc9c0\ub09c \uac15\uc88c\uc5d0\uc11c\ub294 Caffe\uc758 \uae30\ubcf8 \ub370\uc774\ud130 \uad6c\uc870\uc778 blob\uc5d0 \ub300\ud574\uc11c, \uadf8\ub9ac\uace0 MNIST \ub370\uc774\ud130\uc14b\uc5d0 \ub300\ud574\uc11c \uc54c\uc544\ubcf4\uc558\uc2b5\ub2c8\ub2e4. \uc774\uc81c\ub294 \ubcf8\uaca9\uc801\uc778 \ub274\ub7f4\ub137 \ubaa8\ub378\uc744 \ub9cc\ub4e4\uae30 \uc704\ud55c \ud575\uc2ec \ube4c\ub529\ube14\ub85d\uc778 layer\uc5d0 \ub300\ud574 \uc54c\uc544\ubcfc\ud150\ub370\uc694. \uc774\ubc88 \uc2dc\uac04\uc5d0\ub294 argmax layer \uac04\ub2e8\ud55c \uc608\ub97c \ud1b5\ud574 layer\uc640 blob\uc758 \uad00\uacc4\ub97c \uc54c\uc544\ubcf4\uace0, \ub2e4\uc74c \uc2dc\uac04\uc5d0\ub294 layer \uad6c\uc870\ub97c \uc774\uc6a9\ud558\uc5ec MNIST \ub370\uc774\ud130\uc14b\uc744 \ud55c\ubc88 \ud559\uc2b5\ud574 \ubcf4\ub3c4\ub85d \ud558\uaca0\uc2b5\ub2c8\ub2e4. "
     ]
    },
    {
     "cell_type": "heading",
     "level": 2,
     "metadata": {},
     "source": [
      "Layer\ub780?"
     ]
    },
    {
     "cell_type": "markdown",
     "metadata": {},
     "source": [
      "caffe \ubaa8\ub378\uc5d0\uc11c blob\uc774 \ub370\uc774\ud130 \uad6c\uc870\ub77c\uba74 layer\ub294 \uc5f0\uc0b0\uc790\uc5d0 \ud574\ub2f9\ud569\ub2c8\ub2e4. \uc544\ub798 \ubcf4\uc2dc\ub294 \uadf8\ub9bc\ucc98\ub7fc blob\uc744 \uc785\ub825\uc73c\ub85c \ubc1b\uc544\uc11c \ub2e4\uc591\ud55c \uc5f0\uc0b0\uc744 \uc218\ud589\ud558\uace0 \uadf8 \uacb0\uacfc\ub97c blob\uc73c\ub85c \uc800\uc7a5\ud574\uc11c \ub0b4\ubcf4\ub0c5\ub2c8\ub2e4. \uc27d\uac8c \uc0dd\uac01\ud574\uc11c \ud544\ud130 \uc5ed\ud560\uc744 \ud55c\ub2e4\uace0 \ubcf4\uc2dc\uba74 \ub429\ub2c8\ub2e4. \n",
      "\n",
      "<img src=\"http://caffe.berkeleyvision.org/tutorial/fig/layer.jpg\" alt=\"Drawing\" style=\"width: 200px;\"/>"
     ]
    },
    {
     "cell_type": "markdown",
     "metadata": {},
     "source": [
      "caffe\ub294 \ub2e4\uc591\ud55c \uc885\ub958\uc758 layer\ub97c \uc9c0\uc6d0\ud558\ub294\ub370\uc694, \uc608\ub97c \ub4e4\uc5b4 convolution filter, pooling layer, inner product layer, rectified-linear layer, sigmoid layer, transformations, normalize, loss functions \ub4f1\ub4f1 \uc544\uc8fc \ub9ce\uc774 \uc788\uad6c\uc694. caffe \ucee4\ubba4\ub2c8\ud2f0\uac00 \ubc1c\uc804\ud568\uc5d0 \ub530\ub77c layer\uc758 \uc885\ub958\ub3c4 \ub298\uc5b4\ub098\uace0 \uc788\uc2b5\ub2c8\ub2e4. \ub610\ud55c \uc624\ud508\uc18c\uc2a4\uc774\uae30 \ub54c\ubb38\uc5d0 \uc790\uc2e0\uc5d0\uac8c \ud544\uc694\ud55c layer\ub97c \uc124\uacc4\ud558\uace0 \uad6c\ud604\ud560 \uc218\ub3c4 \uc788\uc2b5\ub2c8\ub2e4. "
     ]
    },
    {
     "cell_type": "markdown",
     "metadata": {},
     "source": [
      "layer\uc5d0 \ub300\ud55c \uc124\uba85\uc740 caffe \uacf5\uc2dd \ud29c\ud1a0\ub9ac\uc5bc \ud398\uc774\uc9c0 \uc911\uc5d0 [layer](http://caffe.berkeleyvision.org/tutorial/layers.html)\uc5d0\uc11c \ucc3e\uc544\ubcf4\uc2e4 \uc218 \uc788\uc2b5\ub2c8\ub2e4. \ud558\uc9c0\ub9cc \ub354 \uc88b\uc740 \ubc29\ubc95\uc740 \uc9c1\uc811 \uc18c\uc2a4\ucf54\ub4dc\ub97c \uc0b4\ud3b4\ubcf4\ub294\uac83\uc774\uaca0\uc8e0? \ubc14\ub85c \uc624\ud508\uc18c\uc2a4 \ucf54\ub4dc \uc911\uc5d0 \uac01 layer\uc758 \uae30\ub2a5\uc774 \uc815\uc758\ub41c [\ud5e4\ub354\ud30c\uc77c\ub4e4](https://github.com/BVLC/caffe/tree/master/include/caffe/layers)\uacfc [\uc18c\uc2a4\ud30c\uc77c\ub4e4](https://github.com/BVLC/caffe/tree/master/src/caffe/layers)\ub97c \ubcf4\uba74 caffe\uc5d0\uc11c \uc0ac\uc6a9\ud560 \uc218 \uc788\ub294 \ub2e4\uc591\ud55c layer\ub4e4\uc758 \uad6c\ud604 \ucf54\ub4dc\ub97c \ub2e4 \ubcfc \uc218 \uc788\uc2b5\ub2c8\ub2e4. \ub300\ubd80\ubd84\uc758 layer\ub4e4\uc774 CPU\uc5d0\uc11c \uad6c\ud604\ub41c .cpp \ud30c\uc77c\uacfc GPU\uc5d0\uc11c \uad6c\ud604\ub41c .cu \ud30c\uc77c\uc744 \uac00\uc9c0\uace0 \uc788\uc2b5\ub2c8\ub2e4. "
     ]
    },
    {
     "cell_type": "heading",
     "level": 3,
     "metadata": {},
     "source": [
      "layer.hpp"
     ]
    },
    {
     "cell_type": "markdown",
     "metadata": {},
     "source": [
      "layer\ub97c \uc5b4\ub5bb\uac8c \uc0dd\uc131\ud558\uace0 \uc0ac\uc6a9\ud558\ub294\uc9c0\ub294 \uc544\ub798\uc5d0 \uc788\ub294 `argmax layer` \uc608\uc81c\ub97c \ud1b5\ud574 \uc790\uc138\ud788 \uc0b4\ud3b4\ubcfc\ud150\ub370\uc694. \uadf8 \uc804\uc5d0 \uac04\ub2e8\ud788 \ubaa8\ub4e0 layer\ub4e4\uc758 \ubd80\ubaa8\ud074\ub798\uc2a4\uc778 [layer.hpp](https://github.com/BVLC/caffe/blob/master/include/caffe/layer.hpp)\ub97c \ud55c\ubc88 \uac19\uc774 \ubcf4\uba74\uc11c layer\uc758 \uae30\ubcf8 \uad6c\uc870 \ubc0f \uc0ac\uc6a9\ubc95\uc5d0 \ub300\ud574 \uac10\uc744 \uc7a1\uc544\ubcf4\ub3c4\ub85d \ud558\uc8e0. \ucc38\uace0\ub85c caffe\ub294 \uc18c\uc2a4\ucf54\ub4dc\uac00 \uc544\uc8fc \uccb4\uacc4\uc801\uc73c\ub85c \uc791\uc131\ub418\uc5b4 \uc788\uc5b4\uc11c \ub530\ub85c \ubb38\uc11c\ud654\uc758 \ud544\uc694\uc131\uc744 \ubabb\ub290\ub084 \uc815\ub3c4\uc785\ub2c8\ub2e4. \uc18c\uc2a4\ucf54\ub4dc\ub97c \ubcf4\uba74\uc11c \ubc30\uc6b0\uace0 \uc775\ud788\ub294 \uc7ac\ubbf8\ub3c4 \uc788\uad6c\uc694.  "
     ]
    },
    {
     "cell_type": "markdown",
     "metadata": {},
     "source": [
      "\uba3c\uc800 Layer class\uc758 \uc0dd\uc131\uc790\ub97c \uba3c\uc800 \ubcf4\uba74\uc694. `LayerParameter` \ud0c0\uc785\uc758 \ud30c\ub77c\ubbf8\ud130 \uac12\uc744 \uc778\uc790\ub85c \ubc1b\uc2b5\ub2c8\ub2e4."
     ]
    },
    {
     "cell_type": "markdown",
     "metadata": {},
     "source": [
      "```\n",
      "explicit Layer(const LayerParameter& param)\n",
      "```"
     ]
    },
    {
     "cell_type": "markdown",
     "metadata": {},
     "source": [
      "\uc774 `param`\uac12\uc740 \uac01 layer\ub9c8\ub2e4 \ud2b9\uc218\ud558\uac8c \uc694\uad6c\ud558\ub294 \ud30c\ub77c\ubbf8\ud130\ub4e4\uc785\ub2c8\ub2e4. \uae30\uc874 layer\ub97c \uc0ac\uc6a9\ud558\uae30 \uc704\ud574\uc11c\ub294 \uadf8 layer\uac00 \uc9c0\uc6d0\ud558\ub294 \uadf8\ub9ac\uace0 \ud544\uc694\ud55c \ud30c\ub77c\ubbf8\ud130\ub4e4\uc774 \ubb34\uc5c7\uc774 \uc788\ub294\uc9c0 \uc54c\uc544\uc57c \ud560\ud150\ub370\uc694. \uadf8\uac83\uc740 [proto \ud30c\uc77c](https://github.com/BVLC/caffe/blob/master/src/caffe/proto/caffe.proto)\ub85c \uc2a4\ud06c\ub9bd\ud2b8 \ud615\ud0dc\ub85c \uc815\uc758\ub418\uc5b4 \uc788\uc2b5\ub2c8\ub2e4. \ub9cc\uc57d\uc5d0 \uc0c8\ub85c\uc6b4 layer\ub97c \ub9cc\ub4e4\uace0 \uc2f6\ub2e4\uace0 \ud558\uba74, \uc5ec\uae30 proto \ud30c\uc77c\uc5d0\ub2e4\uac00 \ud544\uc694\ud55c \ud30c\ub77c\ubbf8\ud130\ub4e4\uacfc \ucd08\uae30\uac12\uc744 \uc815\uc758\ud558\uba74 \ub429\ub2c8\ub2e4. \uadf8\ub7ec\uba74 caffe\ub97c \ucef4\ud30c\uc77c\ud560 \ub54c \uc0c8\ub85c \ucd94\uac00\ub41c layer\uc758 \ud30c\ub77c\ubbf8\ud130\ub97c \uc815\uc758\ud55c \ud5e4\ub354\ud30c\uc77c\uc774 \uc790\ub3d9\uc73c\ub85c \uc0dd\uc131\ub429\ub2c8\ub2e4. \uc790\uc138\ud55c\uac74 \uc544\ub798 `argmax` \uc608\uc81c\uc5d0\uc11c \ub354 \uc54c\uc544\ubcf4\ub3c4\ub85d \ud558\uc8e0."
     ]
    },
    {
     "cell_type": "markdown",
     "metadata": {},
     "source": [
      "layer\ub97c \uc0dd\uc131\ud55c \ub2e4\uc74c\uc5d0\ub294 \uadf8 layer\ub97c \ud1b5\ud574 \uacc4\uc0b0\ub418\ub294 \uc785\ucd9c\ub825 blob\uc744 \uc54c\ub824\uc8fc\uc5b4\uc57c \ud569\ub2c8\ub2e4. \ubbf8\ub9ac \uc0dd\uc131\ub41c bottom blob, top blob\ub4e4\uc744 `SetUp` \ud568\uc218\ub97c \ud1b5\ud574 \ub118\uaca8\uc8fc\uba74 \ub429\ub2c8\ub2e4."
     ]
    },
    {
     "cell_type": "markdown",
     "metadata": {},
     "source": [
      "```\n",
      "void SetUp(const vector<Blob<Dtype>*>& bottom,\n",
      "      const vector<Blob<Dtype>*>& top)\n",
      "```"
     ]
    },
    {
     "cell_type": "markdown",
     "metadata": {},
     "source": [
      "\uc5ec\uae30\uc11c bottom/top blob\ub4e4\uc774 \uac01\uac01 vector\ud615\ud0dc\ub85c \uc815\uc758\ub41c\uac83\uc744 \ubcfc \uc218 \uc788\ub294\ub370\uc694. \uc989, \uc785\ucd9c\ub825\uc73c\ub85c \ud55c \uac1c \uc774\uc0c1\uc758 blob\ub4e4\uc774 layer\ub85c \ub4e4\uc5b4\uac00\uace0 \ub098\uc62c\uc218 \uc788\ub2e4\ub294 \ub9d0\uc785\ub2c8\ub2e4. \uc774\ub7ec\ud55cMIMO\ud615\ud0dc\uc758 layer\ub97c \uc774\uc6a9\ud558\uc5ec \ubcf5\uc7a1\ud55c \ub124\ud2b8\uc6cc\ud06c \ubaa8\ub378\uc744 \uad6c\uc131\ud560 \uc218 \uc788\uc2b5\ub2c8\ub2e4."
     ]
    },
    {
     "cell_type": "markdown",
     "metadata": {},
     "source": [
      "\uc774 `SetUp` \ud568\uc218\ub97c \ubcf4\uc2dc\uba74 \uba87 \uac00\uc9c0 \uba85\ub839\uc774 \uc2e4\ud589\ub418\ub294\ub370\uc694, \uadf8 \uc911\uc5d0 \uc544\ub798 `LayerSetUp`\uacfc `Reshape`\uc740 \uac01 layer\ub4e4\uc774 \ud2b9\uc218\ud558\uac8c \uc218\ud589\ud558\ub294 layer \ucd08\uae30\ud654 \uacfc\uc815\uc73c\ub85c, virtual\ub85c \uc120\uc5b8\ub418\uc5b4 \uc788\uc5b4\uc11c \uac01 \uc790\uc2dd class\uc5d0\uc11c \uc7ac\uc815\uc758\ud560 \uc218 \uc788\uc2b5\ub2c8\ub2e4."
     ]
    },
    {
     "cell_type": "markdown",
     "metadata": {},
     "source": [
      "```\n",
      "virtual void LayerSetUp(const vector<Blob<Dtype>*>& bottom,\n",
      "      const vector<Blob<Dtype>*>& top) {}\n",
      "```"
     ]
    },
    {
     "cell_type": "markdown",
     "metadata": {},
     "source": [
      "```\n",
      "virtual void Reshape(const vector<Blob<Dtype>*>& bottom,\n",
      "      const vector<Blob<Dtype>*>& top) = 0;\n",
      "```"
     ]
    },
    {
     "cell_type": "markdown",
     "metadata": {},
     "source": [
      "\uc774\ubc88\uc5d0 \ubcf4\uc2e4 \ub450 \uac00\uc9c0 \ud568\uc218\ub294 \uac00\uc7a5 \uc911\uc694\ud55c layer\uc758 \uacc4\uc0b0 \uae30\ub2a5\uc744 \ub2f4\ub2f9\ud558\ub294\ub370\uc694. \ubc14\ub85c `Forward`\uc640 `Backward`\uc785\ub2c8\ub2e4. "
     ]
    },
    {
     "cell_type": "markdown",
     "metadata": {},
     "source": [
      "```\n",
      "inline Dtype Forward(const vector<Blob<Dtype>*>& bottom,\n",
      "      const vector<Blob<Dtype>*>& top);\n",
      "```"
     ]
    },
    {
     "cell_type": "markdown",
     "metadata": {},
     "source": [
      "`Forward`\ub294 bottom blob\uc5d0\uc11c top blob\uc73c\ub85c layer\uc5d0\uc11c \uc815\uc758\ub41c \uc5f0\uc0b0\uc744 \uc218\ud589\ud569\ub2c8\ub2e4. \uc5ec\uae30\uc11c \uc785\ub825\uc73c\ub85c \ub610\ub2e4\uc2dc bottom/top blob\uc744 \uc815\uc758\ud574\uc57c \ud558\ub294\ub370\uc694. \uc774\uc804\uc5d0 SetUp\uc5d0\uc11c \uc815\uc758\ud588\ub294\ub370 \uc65c \ub610 \ud558\ub294\uac00 \ud558\uba74, layer\ub97c \ub2e4\ub978 \ub370\uc774\ud130\uc5d0 \uc774\uc2dd\ud560 \uc218 \uc788\uac8c \ud558\uae30 \uc704\ud574\uc11c\uc785\ub2c8\ub2e4. \uac01 layer\ub294 \uc815\uc758\uc5d0 \ud544\uc694\ud55c \ud30c\ub77c\ubbf8\ud130 \uac12 \uc678\uc5d0\ub3c4 \uc5f0\uc0b0\uc5d0 \ud544\uc694\ud55c \ubcc0\uc218\ub4e4(\uc608\ub97c \ub4e4\uc5b4 inner product layer\uc758 weight\uac12)\uc744 \uac00\uc9c0\uace0 \uc788\ub294\ub370\uc694. \uc774\ub807\uac8c \ubbf8\ub9ac \uad6c\uc131\ub41c \ub610\ub294 \ud559\uc2b5\ub41c layer\ub97c \ub2e4\ub978 \ub370\uc774\ud130\uc5d0 \uc801\uc6a9\ud560 \uc218 \uc788\uae30 \ub54c\ubb38\uc5d0 \ubaa8\ub378\uc744 \ud6c8\ub828 \ud6c4 \uc0c8\ub85c\uc6b4 \ub370\uc774\ud130\ub97c \uc608\uce21\ud558\ub294\ub370 \uc0ac\uc6a9\ub420 \uc218 \uc788\uc2b5\ub2c8\ub2e4. "
     ]
    },
    {
     "cell_type": "markdown",
     "metadata": {},
     "source": [
      "`Backward`\ub294 `Forward`\uc640\ub294 \ubc18\ub300\ub85c top blob\uc5d0\uc11c bottom blob\uc73c\ub85c \uc5f0\uc0b0\uc774 \uc9c4\ud589\ub429\ub2c8\ub2e4. \uc989 \ub124\ud2b8\uc6cc\ud06c \ubaa8\ub378\uc744 \ud6c8\ub828\ud558\ub294 \uae30\ubcf8 \uba54\ucee4\ub2c8\uc998\uc778 \uc5ed\uc804\ud30c(backpropagation) \uc54c\uace0\ub9ac\uc998\uc774 \ub3d9\uc791\ud558\ub294 \uac83\uc774\uc8e0. "
     ]
    },
    {
     "cell_type": "markdown",
     "metadata": {},
     "source": [
      "```\n",
      "inline void Backward(const vector<Blob<Dtype>*>& top,\n",
      "      const vector<bool>& propagate_down,\n",
      "      const vector<Blob<Dtype>*>& bottom);\n",
      "```"
     ]
    },
    {
     "cell_type": "markdown",
     "metadata": {},
     "source": [
      "\uc544\uc2dc\ub2e4\uc2dc\ud53c \uac01 \ud559\uc2b5\ubcc0\uc218\ub4e4\uc758 \ubcc0\ud654\ub7c9\uc774 \ucd5c\uc885 \ucd9c\ub825\ub2e8\uc758 loss\uc5d0 \ubbf8\uce58\ub294 \uc601\ud5a5\uc740 chain rule\uc5d0 \uc758\ud574 \uac01 \ubcc0\uc218\ubcc4\ub85c \ubd84\ub9ac\ub418\uc5b4\uc11c \uacc4\uc0b0\ub420 \uc218 \uc788\uc2b5\ub2c8\ub2e4. \uadf8\ub9ac\uace0 gradient decent \uc54c\uace0\ub9ac\uc998\uc5d0 \uc758\ud574\uc11c loss\uac00 \uc791\uc544\uc9c0\ub294 \ubc29\ud5a5\uacfc \uc77c\uce58\ud558\ub3c4\ub85d \uac01 \ud559\uc2b5\ubcc0\uc218\ub97c \uc99d\uac10\ud558\ub294 \uacfc\uc815\uc744 \ubc18\ubcf5\ud558\uba70 \ucd5c\uc801\uc758 \ubcc0\uc218\uac12\ub4e4\uc774 \ud559\uc2b5\ub418\ub294 \uac83\uc774\uc8e0. \uc774 \uacfc\uc815\uc5d0\uc11c `Backward` \ud568\uc218\ub294 top blob\uc758 \ubcc0\ud654\ub7c9\uc5d0 \ub300\ud55c bottom blob\uc758 \ubcc0\ud654\ub7c9\uc744 \uacc4\uc0b0\ud558\uace0, bottom blob\uc5d0 \uc800\uc7a5\ud569\ub2c8\ub2e4. \uc774\uc804\uc5d0 \uc5b8\uae09\ud588\ub294\uc9c0 \ubaa8\ub974\uaca0\uc9c0\ub9cc, \uac01 blob\uc5d0\ub294 \ub370\uc774\ud130(`blob->cpu_data()`)\uc758 \ubcc0\ud654\ub7c9\uc744 \ud56d\uc0c1 \uc800\uc7a5\ud558\ub294 \ubcc0\uc218(`blob.cpu_diff()`)\uac00 \ub530\ub85c \uc788\uc2b5\ub2c8\ub2e4. \uacb0\uacfc\uc801\uc73c\ub85c `Backward`\uacfc\uc815\uc744 \ud1b5\ud574\uc11c \uc774 `diff()` \ubcc0\uc218\uac12\uc774 \uc5c5\ub370\uc774\ud2b8 \ub418\ub294 \uac83\uc785\ub2c8\ub2e4.  "
     ]
    },
    {
     "cell_type": "heading",
     "level": 2,
     "metadata": {},
     "source": [
      "argmax layer"
     ]
    },
    {
     "cell_type": "markdown",
     "metadata": {},
     "source": [
      "\uc790, \uadf8\ub7fc \uc774\uc81c \uc2e4\uc81c \uc608\uc81c\ucf54\ub4dc\ub97c \ubcf4\uba74\uc11c layer\ub97c \uc0ac\uc6a9\ud574\ubcf4\ub3c4\ub85d \ud560\uac8c\uc694. \uc5ec\uae30\uc11c\ub294 layer\uc758 \uae30\ubcf8 \uc0ac\uc6a9\ubc95\uc744 \uc775\ud788\uae30 \uc704\ud574 \ud55c \uce35\uc758 `argmax layer`\ub97c \uc815\uc758\ud558\uace0 `SetUp()`\uacfc `Forward()` \uae30\ub2a5\ub9cc \ub2e4\ub8e8\ub3c4\ub85d \ud558\uaca0\uc2b5\ub2c8\ub2e4. \ub300\uc2e0 \ub2e4\uc74c\ubc88 \uc608\uc81c\uc5d0\uc11c\ub294 \ub450 \uce35\uc758 layer\ub97c \ub9cc\ub4e4\uace0, `Backward()`\uae30\ub2a5\uae4c\uc9c0 \ud569\ud558\uc5ec Logistic Regression Classification\uc744 \uad6c\ud604\ud574 \ubcf4\ub294\uac78 \ud558\uaca0\uc2b5\ub2c8\ub2e4."
     ]
    },
    {
     "cell_type": "heading",
     "level": 3,
     "metadata": {},
     "source": [
      "Source code"
     ]
    },
    {
     "cell_type": "markdown",
     "metadata": {},
     "source": [
      "\uba3c\uc800 \uae43\ud5d9\uc5d0\uc11c [ex4_layer \ud30c\uc77c\ub4e4](https://github.com/DeepLearningStudy/caffe/tree/master/examples/ex4_layer)\uc744 \uc900\ube44\ud558\uc2dc\uace0, [main.cpp \ud30c\uc77c](https://github.com/DeepLearningStudy/caffe/blob/master/examples/ex4_layer/main.cpp)\uc744 \uc5f4\uc5b4\ubd05\ub2c8\ub2e4. \uc774 \uc608\uc81c\uc5d0\uc11c\ub294 \uc784\uc758\ub85c 20\ucc28\uc6d0\uc758 \uac12\uc744 \uac00\uc9c0\ub294 10\uac1c\uc758 \ub370\uc774\ud130(10x20x1x1)\ub97c bottom blob\uc5d0 \uc0dd\uc131\ud558\uace0, \uac01 \ub370\uc774\ud130 \ubcc4\ub85c \uac00\uc7a5 \ud070 \uac12\uc744 \uac00\uc9c0\ub294 \ucc28\uc6d0\uc758 \uc218\ub97c \ucc3e\ub294 argmax \ubb38\uc81c\uc785\ub2c8\ub2e4. "
     ]
    },
    {
     "cell_type": "markdown",
     "metadata": {},
     "source": [
      "$$label_i = \\underset{j} {\\mathrm{argmax}} ~{x_{ij}}$$"
     ]
    },
    {
     "cell_type": "markdown",
     "metadata": {},
     "source": [
      "\uccab \ubc88\uc9f8\ub85c, \ube44\uc5b4\uc788\ub294 top blob\uacfc `GaussianFiller`\ub97c \uc774\uc6a9\ud558\uc5ec bottom blob\uc744 \uc0dd\uc131\ud569\ub2c8\ub2e4."
     ]
    },
    {
     "cell_type": "markdown",
     "metadata": {},
     "source": [
      "```\n",
      "Blob<Dtype>* blob_top = new Blob<Dtype>();\n",
      "Blob<Dtype>* blob_bottom = new Blob<Dtype>(10, 20, 1, 1);\n",
      "FillerParameter filler_param;\n",
      "GaussianFiller<Dtype> filler(filler_param);\n",
      "filler.Fill(blob_bottom);\n",
      "```    "
     ]
    },
    {
     "cell_type": "markdown",
     "metadata": {},
     "source": [
      "`GaussianFiller` \uc5ed\uc2dc `FillerParameter`\ub85c \uc815\uc758\ub41c \uac12\uc744 \uac00\uc9c0\ub294\ub370\uc694, \uc5ec\uae30\uc11c\ub294 \uc544\ubb34 \uac12\ub3c4 \uc815\uc758\ud558\uc9c0 \uc54a\uc740 \uae30\ubcf8\uac12\uc744 \uc0ac\uc6a9\ud569\ub2c8\ub2e4. \uadf8\ub7fc \uae30\ubcf8\uac12\uc740 \uc5b4\ub5bb\uac8c \uc815\uc758\uac00 \ub418\uc5b4 \uc788\ub294\uc9c0 \uc54c \uc218 \uc788\uc744\uae4c\uc694? caffe\uc5d0\uc11c\ub294 \ubaa8\ub4e0 \ud30c\ub77c\ubbf8\ud130 \uc815\uc758\ub294 \uc704\uc5d0\uc11c \ubcf8 proto\ud30c\uc77c\uc5d0 \uc815\uc758\uac00 \ub418\uc5b4 \uc788\uc2b5\ub2c8\ub2e4. \uadf8 \uc911\uc5d0\uc11c [FillerParameter \ubd80\ubd84](https://github.com/BVLC/caffe/blob/master/src/caffe/proto/caffe.proto#L43-L62) \uc744 \ubcf4\uba74, GaissianFiller\uc5d0 \ub300\ud55c \ucd08\uae30\uac12\uc740 \uc544\ub798\ucc98\ub7fc \uc124\uc815\ub418\uc5b4 \uc788\ub294 \uac83\uc744 \ucc3e\uc744 \uc218 \uc788\uc2b5\ub2c8\ub2e4."
     ]
    },
    {
     "cell_type": "markdown",
     "metadata": {},
     "source": [
      "```\n",
      "optional float mean = 5 [default = 0]; // the mean value in Gaussian filler\n",
      "optional float std = 6 [default = 1]; // the std value in Gaussian filler\n",
      "```"
     ]
    },
    {
     "cell_type": "markdown",
     "metadata": {},
     "source": [
      "\uc989, \ud3c9\uade0 0 \ud45c\uc900\ud3b8\ucc28 1\uc778 \uc815\uaddc\ubd84\ud3ec\uc5d0\uc11c \uc784\uc758\ub85c \uac12\uc744 \uc148\ud50c\ub9c1\ud574\uc11c bottom blob\uc5d0 \ucc44\uc6cc \ub123\uc2b5\ub2c8\ub2e4."
     ]
    },
    {
     "cell_type": "markdown",
     "metadata": {},
     "source": [
      "\uadf8 \ub2e4\uc74c\uc5d0\ub294 layer\uc5d0 bottom/top blob\ub4e4\uc744 \uc815\uc758\ud558\uae30 \uc704\ud574\uc11c blob \ubca1\ud130\ub97c \ub9cc\ub4ed\ub2c8\ub2e4. \uc5ec\uae30\uc11c\ub294 bottom/top blob\uc774 \ud558\ub098\uc529 \ubc16\uc5d0 \uc5c6\ub124\uc694."
     ]
    },
    {
     "cell_type": "markdown",
     "metadata": {},
     "source": [
      "```\n",
      "vector<Blob<Dtype>*> blob_bottom_vec;\n",
      "vector<Blob<Dtype>*> blob_top_vec;\n",
      "blob_bottom_vec.push_back(blob_bottom);\n",
      "blob_top_vec.push_back(blob_top);\n",
      "```"
     ]
    },
    {
     "cell_type": "markdown",
     "metadata": {},
     "source": [
      "\uc774\uc81c argmax layer\ub97c \ub9cc\ub4e4\uc5b4 \ubd05\uc2dc\ub2e4. \uc55e\uc5d0\uc11c \uc0b4\ud3b4\ubcf4\uc558\ub4ef\uc774, \ubaa8\ub4e0 layer\ub294 `LayerParameter`\ud0c0\uc785\uc758 \uac12\uc744 \uc778\uc790\ub85c \ubc1b\uc2b5\ub2c8\ub2e4. \uc5ec\uae30\uc11c\ub294 `ArgMaxLayer`\ub97c \uc815\uc758\ud574\uc57c \ud558\uae30 \ub54c\ubb38\uc5d0, `ArgMaxParameter` \ud0c0\uc785\uc758 \ud30c\ub77c\ubbf8\ud130 \uac12\ub4e4\uc744 \uc14b\ud305\ud558\uace0, `layer_param`\uc5d0 \uc800\uc7a5\ud569\ub2c8\ub2e4. "
     ]
    },
    {
     "cell_type": "markdown",
     "metadata": {},
     "source": [
      "```\n",
      "LayerParameter layer_param;\n",
      "ArgMaxParameter* argmax_param = layer_param.mutable_argmax_param();\n",
      "argmax_param->set_out_max_val(true);    // two channel: 0 arg, 1 max_val\n",
      "ArgMaxLayer<Dtype> layer(layer_param);\n",
      "layer.SetUp(blob_bottom_vec, blob_top_vec);\n",
      "```"
     ]
    },
    {
     "cell_type": "markdown",
     "metadata": {},
     "source": [
      "`ArgMaxParameter`\uac00 \ubb34\uc2a8 \ubcc0\uc218\ub4e4\uc744 \uac00\uc9c0\ub294\uc9c0\ub294 \uc5ed\uc2dc proto \ud30c\uc77c\uc5d0\uc11c [\ud574\ub2f9\ubd80\ubd84](https://github.com/BVLC/caffe/blob/master/src/caffe/proto/caffe.proto#L466-L475)\uc744 \uc0b4\ud3b4\ubcf4\uba74 \uc54c \uc218 \uc788\uc2b5\ub2c8\ub2e4. \uc5ec\uae30\uc11c\ub294 `out_max_val`\uac12\uc744 `true`\ub85c \uc124\uc815\ud588\ub294\ub370\uc694, \uc774\ub294 top blob\uc5d0 argmax \uac12 \uc678\uc5d0\ub3c4 max\uac12\ub3c4 \uc800\uc7a5\ud55c\ub2e4\ub294 \uc758\ubbf8\uc785\ub2c8\ub2e4. \uc989 top blob\uc758 \uccb4\ub110\uc218\uac00 2\uac00 \ub429\ub2c8\ub2e4. "
     ]
    },
    {
     "cell_type": "markdown",
     "metadata": {},
     "source": [
      "\uadf8\ub7fc \uc774\uc81c blob\ub4e4\uc774 \uc798 \uc14b\ud305\uc774 \ub418\uc5c8\ub294\uc9c0 \ud655\uc778\ud574\ubd05\uc2dc\ub2e4. "
     ]
    },
    {
     "cell_type": "markdown",
     "metadata": {},
     "source": [
      "```\n",
      "cout<<\"blob_top_num:\"<<blob_top->num()<<endl;\n",
      "cout<<\"blob_bottom_num:\"<<blob_bottom->num()<<endl;\n",
      "cout<<\"blob_top_channels:\"<<blob_top->channels()<<endl;\n",
      "```    "
     ]
    }
   ],
   "metadata": {}
  }
 ]
}