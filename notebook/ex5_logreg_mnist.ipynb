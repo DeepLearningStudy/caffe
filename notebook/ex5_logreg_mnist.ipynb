{
 "metadata": {
  "name": ""
 },
 "nbformat": 3,
 "nbformat_minor": 0,
 "worksheets": [
  {
   "cells": [
    {
     "cell_type": "heading",
     "level": 2,
     "metadata": {},
     "source": [
      "Logistic Regression Classification of the MNIST dataset using 'layer' in Caffe"
     ]
    },
    {
     "cell_type": "raw",
     "metadata": {},
     "source": [
      "\uc9c0\ub09c \uac15\uc88c\uc5d0\uc11c\ub294 Caffe\uc758 \uae30\ubcf8 \ub370\uc774\ud130 \uad6c\uc870\uc778 blob\uc5d0 \ub300\ud574\uc11c, \uadf8\ub9ac\uace0 MNIST \ub370\uc774\ud130\uc14b\uc5d0 \ub300\ud574\uc11c \uc54c\uc544\ubcf4\uc558\uc2b5\ub2c8\ub2e4. \uc774\ubc88 \uc2dc\uac04\uc5d0\ub294 MNIST \ub370\uc774\ud130\uc14b\uc744 blob\uc5d0 \uc800\uc7a5\ud558\uace0 Caffe\uc5d0\uc11c \uac00\uc7a5 \uc911\uc694\ud55c \ube4c\ub529\ube14\ub85d\uc778 layer\uac00 \ubb34\uc5c7\uc778\uc9c0 \uc54c\uc544\ubcf4\ub3c4\ub85d \ud558\uaca0\uc2b5\ub2c8\ub2e4. "
     ]
    },
    {
     "cell_type": "heading",
     "level": 3,
     "metadata": {},
     "source": [
      "Logistic Regression Classification"
     ]
    },
    {
     "cell_type": "code",
     "collapsed": false,
     "input": [],
     "language": "python",
     "metadata": {},
     "outputs": []
    },
    {
     "cell_type": "heading",
     "level": 3,
     "metadata": {},
     "source": [
      "Layer structure for LogReg"
     ]
    },
    {
     "cell_type": "code",
     "collapsed": false,
     "input": [],
     "language": "python",
     "metadata": {},
     "outputs": []
    },
    {
     "cell_type": "heading",
     "level": 3,
     "metadata": {},
     "source": [
      "MNIST dataset"
     ]
    },
    {
     "cell_type": "code",
     "collapsed": false,
     "input": [],
     "language": "python",
     "metadata": {},
     "outputs": [],
     "prompt_number": 1
    },
    {
     "cell_type": "code",
     "collapsed": false,
     "input": [],
     "language": "python",
     "metadata": {},
     "outputs": []
    }
   ],
   "metadata": {}
  }
 ]
}