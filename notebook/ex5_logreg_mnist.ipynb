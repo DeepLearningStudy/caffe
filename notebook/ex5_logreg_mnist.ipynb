{
 "metadata": {
  "name": ""
 },
 "nbformat": 3,
 "nbformat_minor": 0,
 "worksheets": [
  {
   "cells": [
    {
     "cell_type": "heading",
     "level": 2,
     "metadata": {},
     "source": [
      "Logistic Regression Classification with MNIST dataset using 'layer' in Caffe"
     ]
    },
    {
     "cell_type": "markdown",
     "metadata": {},
     "source": [
      "\uc9c0\ub09c \uc2dc\uac04\uae4c\uc9c0 Caffe\uc758 \uae30\ubcf8 \uad6c\uc870\uc778 Blob, Layer\uc5d0 \ub300\ud574 \uc54c\uc544\ubcf4\uc558\uc2b5\ub2c8\ub2e4. \uadf8\ub9ac\uace0 \uc55e\uc73c\ub85c \uc790\uc8fc \uc0ac\uc6a9\ud558\uac8c \ub420 MNIST \ub370\uc774\ud130\uc14b\uc5d0 \ub300\ud574\uc11c\ub3c4 \uc0b4\ud3b4\ubcf4\uc558\uc2b5\ub2c8\ub2e4. \uc774\ubc88 \uc2dc\uac04\ubd80\ud130\ub294 \ubcf8\uaca9\uc801\uc73c\ub85c \ub124\ud2b8\uc6cc\ud06c \ubaa8\ub378\uc744 \ud559\uc2b5\ud558\uace0 \uc8fc\uc5b4\uc9c4 \ub370\uc774\ud130\uc758 \ub77c\ubca8\uc744 \uc608\uce21\ud558\ub294 \uad50\uc0ac\ud559\uc2b5 (supervised learning)\uc744 Caffe\ub97c \uc774\uc6a9\ud558\uc5ec \uad6c\ud604\ud574 \ubcf4\uaca0\uc2b5\ub2c8\ub2e4."
     ]
    },
    {
     "cell_type": "markdown",
     "metadata": {},
     "source": [
      "supervised learning, unsupervised learning, classification, regression \ub4f1 \uba38\uc2e0\ub7ec\ub2dd\uc5d0 \ub300\ud55c \uae30\ubcf8\uc801\uc778 \uc6a9\uc5b4 \uc124\uba85\uc740 \uc0dd\ub7b5\ud569\ub2c8\ub2e4. \ub525\ub7ec\ub2dd\uc744 \uc704\ud55c \uba38\uc2e0\ub7ec\ub2dd \uae30\ucd08\ub294 Bengio \uadf8\ub8f9\uc758 [Deeplearning Book](http://www.deeplearningbook.org/)\ub97c \ucd94\ucc9c\ud569\ub2c8\ub2e4."
     ]
    },
    {
     "cell_type": "heading",
     "level": 3,
     "metadata": {},
     "source": [
      "Online Linear Regression"
     ]
    },
    {
     "cell_type": "markdown",
     "metadata": {},
     "source": [
      "\uc774\ubc88\uc5d0 \uad6c\ud604\ud560 \ubaa8\ub378\uc740 Logistic Regression Classifier \uc778\ub370\uc694, \uba3c\uc800 \uae30\ubcf8\uc774 \ub418\ub294 \uc120\ud615\ud68c\uae30(linear regression)\uc5d0 \ub300\ud574 \uac04\ub2e8\ud788 \uc54c\uc544\ubcf4\uae30\ub85c \ud558\uaca0\uc2b5\ub2c8\ub2e4. D\ucc28\uc6d0\uc758 N\uac1c\uc758 \ub370\uc774\ud130\ub97c \uac00\uc9c0\ub294 \uc785\ub825 \uba54\ud2b8\ub9ad\uc2a4 <img src=\"http://mathurl.com/zj4tfxg.png\"> \uc640 \uac01 \ub370\uc774\ud130\uc5d0 \ub530\ub978 \ud558\ub098\uc758 \uc2e4\uc218\uac12\uc744 \uac00\uc9c0\ub294 \ucd9c\ub825 \ubca1\ud130 <img src=\"http://mathurl.com/gphjxm2.png\">\uac00 \uc788\uc744 \ub54c, \uc120\ud615\ud68c\uae30\ub294 \uc785\ub825\uacfc \ucd9c\ub825 \uc0ac\uc774\uc758 \uc120\ud615\ubcc0\ud658 \uad00\uacc4\ub97c \ub098\ud0c0\ub0b4\ub294 D\ucc28\uc6d0\uc758 \ubcc0\uc218\uac12 <img src=\"http://mathurl.com/hcwe8jv.png\"> \ub97c \uad6c\ud558\ub294 \uac83\uc785\ub2c8\ub2e4. "
     ]
    },
    {
     "cell_type": "markdown",
     "metadata": {},
     "source": [
      "\uc774 \ubb38\uc81c\ub294 \ub2e4\uc74c\uacfc \uac19\uc740 loss function\uc744 \ucd5c\uc18c\ud654 \ud558\ub294 w\ub97c \uad6c\ud558\ub294 \ubb38\uc81c\ub85c, \ucd5c\uc18c\uc790\uc2b9\ubc95\uc744 \uc0ac\uc6a9\ud558\uc5ec \uac04\ub2e8\ud788 \uad6c\ud560 \uc218 \uc788\uc2b5\ub2c8\ub2e4. "
     ]
    },
    {
     "cell_type": "markdown",
     "metadata": {},
     "source": [
      "<img src=\"http://mathurl.com/hjlsywf.png\">"
     ]
    },
    {
     "cell_type": "markdown",
     "metadata": {},
     "source": [
      "\ud558\uc9c0\ub9cc, X\uc758 \uac12 \uc804\uccb4\ub97c \ubbf8\ub9ac \uc54c \uc218 \uc5c6\uc744 \ub54c, \ub610\ub294 X\uc758 \uac12\uc774 \ub108\ubb34 \ucee4\uc11c \uba54\ud2b8\ub9ad\uc2a4 \uc5f0\uc0b0\uc774 \uac00\ub2a5\ud55c \uba54\ubaa8\ub9ac \uc6a9\ub7c9\uc744 \ub118\uc5b4\uc11c\uac8c \ub420\ub54c\ub294 \ucd5c\uc18c\uc790\uc2b9\ubc95\uc73c\ub85c \uad6c\ud560 \uc218 \uc5c6\uc2b5\ub2c8\ub2e4. \uc774\ub7f0 \uacbd\uc6b0 \uc218\uce58\ud574\uc11d\uc801\uc778 \ubc29\ubc95\uc73c\ub85c \ud480\uc218\uac00 \uc788\ub294\ub370\uc694, \uc774\ub97c online learning \uc774\ub77c\uace0 \ud558\uba70, \uac00\uc7a5 \ub110\ub9ac \uc0ac\uc6a9\ub418\ub294 \ubc29\ubc95\uc73c\ub85c\ub294 gradient descent algorithm \uc774 \uc788\uc2b5\ub2c8\ub2e4. \ub274\ub7f4\ub124\ud2b8\uc6cc\ud06c \ubaa8\ub378\uc758 \uae30\ubcf8\uc774 \ub418\ub294 \ubc29\ubc95\uc774\uae30\ub3c4 \ud558\uba70, \uc120\ud615\ud68c\uae30 \ubb38\uc81c\uc5d0\uc11c\ub294 \uc704\uc758 loss function\uc774 \ud558\ub098\uc758 global optima\ub97c \uac00\uc9c0\ubbc0\ub85c gradient descent \ubc29\ubc95\uc73c\ub85c \ucd5c\uc801\uc758 \ud574\ub97c \ucc3e\uc744 \uc218 \uc788\uc2b5\ub2c8\ub2e4. "
     ]
    },
    {
     "cell_type": "markdown",
     "metadata": {},
     "source": [
      "gradient descent \ubc29\ubc95\uc740 \uac04\ub2e8\ud558\uac8c \ub2e4\uc74c\uacfc \uac19\uc774 \uc124\uba85\ud560 \uc218 \uc788\uc2b5\ub2c8\ub2e4. \ubaa8\ub4e0 w \uac12\uc744 \uc784\uc758\uc758 \uac12\uc73c\ub85c \ucd08\uae30\ud654\ud55c \ub2e4\uc74c, \uac01 \ub370\uc774\ud130\uac00 \ub4e4\uc5b4\uc62c \ub54c\ub9c8\ub2e4, \ud604\uc7ac w\uac12\uc758 \ubcc0\ud654\uc5d0 \ub530\ub978 loss function\uc758 \ubcc0\ud654\ub7c9 (gradient)\ub97c \uacc4\uc0b0\ud569\ub2c8\ub2e4."
     ]
    },
    {
     "cell_type": "markdown",
     "metadata": {},
     "source": [
      "<img src=\"http://mathurl.com/zu2qcve.png\">"
     ]
    },
    {
     "cell_type": "markdown",
     "metadata": {},
     "source": [
      "\uadf8 \uc774\ud6c4\uc5d0, \uac01 w \uac12\uc744 \ub2e4\uc74c \uc5c5\ub370\uc774\ud2b8 \ub8f0\uc5d0 \ub530\ub77c \uac31\uc2e0\ud569\ub2c8\ub2e4. \uc5ec\uae30\uc11c <img src=\"http://mathurl.com/hur47e2.png\"> \uac12\uc740 learning rate\uc774\ub77c\uace0 \ud558\uba70 1\ubcf4\ub2e4 \uc791\uc740 \uac12\uc744 \ucde8\ud569\ub2c8\ub2e4. "
     ]
    },
    {
     "cell_type": "markdown",
     "metadata": {},
     "source": [
      "<img src=\"http://mathurl.com/zhnolvv.png\">"
     ]
    },
    {
     "cell_type": "markdown",
     "metadata": {},
     "source": [
      "\uc704\uc758 \uacfc\uc815\uc744 w\uac12\uc774 \ud2b9\uc815 \uac12\uc5d0 \uc218\ub834\ud560\ub54c\uae4c\uc9c0 \ubaa8\ub4e0 \ub370\uc774\ud130\uc5d0 \ub300\ud574\uc11c \ubc18\ubcf5\uc801\uc73c\ub85c \uc218\ud589\ud569\ub2c8\ub2e4. \ucc38\uace0\ub85c, \ub370\uc774\ud130 \ud558\ub098\ub9c8\ub2e4 w\uac12\uc744 \uc5c5\ub370\uc774\ud2b8 \ud558\ub294 \uac83\uc744 incremental learning \uc774\ub77c\uace0 \ud558\uace0, \ubaa8\ub4e0 \ub370\uc774\ud130\uc5d0 \ub300\ud55c gradient\ub97c \ubaa8\uc558\ub2e4\uac00 \ud55c\ubc88\uc5d0 w\uac12\uc744 \uac31\uc2e0\ud558\ub294 \ubc29\ubc95\uc744 batch learning, \uadf8\ub9ac\uace0 \ud55c\uc815\ub41c \uc218 \ub9cc\ud07c\uc758 \ub370\uc774\ud130\uc5d0 \ub300\ud55c gradient\ub97c \ubaa8\uc558\ub2e4\uac00 \uac31\uc2e0\ud558\ub294 \ubc29\ubc95\uc744 mini-batch learning \uc774\ub77c\uace0 \ud569\ub2c8\ub2e4. \uc790\uc138\ud55c \ub0b4\uc6a9\uc740 Sarle, Warren, S(2002)\uc758 [Neural Network FAQ2](ftp://ftp.sas.com/pub/neural/FAQ2.html)\ub97c \ucc38\uace0\ud558\uc138\uc694."
     ]
    },
    {
     "cell_type": "heading",
     "level": 3,
     "metadata": {},
     "source": [
      "Logistic Regression Model"
     ]
    },
    {
     "cell_type": "markdown",
     "metadata": {},
     "source": [
      "\uc55e\uc5d0\uc11c \uc54c\uc544\ubcf8 Logistic Regression\uc740 \uc2e4\uc218\uac12\uc744 \ucd9c\ub825\uc73c\ub85c \uac16\ub294 \ud68c\uae30\ubd84\uc11d\ubc95\uc785\ub2c8\ub2e4. \ud558\uc9c0\ub9cc \uc774\ub97c \uc774\uc6a9\ud574\uc11c \ubd84\ub958\uae30\ub85c \uc0ac\uc6a9\ud560 \uc218 \uc788\ub294\ub370\uc694. \ucd9c\ub825\uac12\uc774 \uac01 \ub370\uc774\ud130\uc758 \ub77c\ubca8\uc744 \ub098\ud0c0\ub0b4\uace0\uc790 \ud560 \ub54c, regression\uc758 \ucd9c\ub825\uc740 \uac01 \uce74\ud14c\uace0\ub9ac\uac00 \ub77c\ubca8\uc774 \ub420 \ud655\ub960\uac12\uc774 \ub429\ub2c8\ub2e4. 0\uacfc 1\uc0ac\uc774\uc758 \ud655\ub960\uac12\uc744 \ucd9c\ub825\uc73c\ub85c \ub098\ud0c0\ub0b4\ub294 regression \ubaa8\ub378\uc744 \ub9cc\ub4e4\uae30 \uc704\ud574\uc11c, logistic function\uc774\ub77c\uace0 \ubd80\ub974\ub294 \ube44\uc120\ud615 \ud568\uc218\ub97c \uc704\uc5d0\uc11c \ubcf8 linear regression \ub4a4\uc5d0 \ubd99\uc774\uba74 \ub418\ub294\ub370\uc694. \uc218\uc2dd\uc73c\ub85c \ud45c\ud604\ud558\uba74 \ub2e4\uc74c\uacfc \uac19\uc774 \ub450 \ub2e8\uacc4\ub85c \ud45c\ud604\ub429\ub2c8\ub2e4. "
     ]
    },
    {
     "cell_type": "markdown",
     "metadata": {},
     "source": [
      "<img src=\"http://mathurl.com/jlhcnub.png\">"
     ]
    },
    {
     "cell_type": "markdown",
     "metadata": {},
     "source": [
      "<img src=\"http://mathurl.com/zdoe89f.png\">"
     ]
    },
    {
     "cell_type": "markdown",
     "metadata": {},
     "source": [
      "<img src=\"http://mathurl.com/z5wf5k6.png\">"
     ]
    },
    {
     "cell_type": "markdown",
     "metadata": {},
     "source": [
      "\uc55e\uc758 \uc608\uc81c\uc5d0\uc11c \uc54c\uc544\ubcf8 Caffe\uc758 layer\ub97c \uc0ac\uc6a9\ud558\uba74, \uc704\uc758 \uc120\ud615 \ubcc0\ud658, \ube44\uc120\ud615 logistic \ud568\uc218\ub85c \uc774\ub8e8\uc5b4\uc9c4 \ub450 \ub2e8\uacc4\ub97c \ub450 \uce35\uc758 layer\ub97c \uc774\uc6a9\ud558\uc5ec \ub098\ud0c0\ub0bc \uc218 \uc788\uc2b5\ub2c8\ub2e4. "
     ]
    },
    {
     "cell_type": "heading",
     "level": 3,
     "metadata": {},
     "source": [
      "MNIST dataset"
     ]
    },
    {
     "cell_type": "code",
     "collapsed": false,
     "input": [],
     "language": "python",
     "metadata": {},
     "outputs": [],
     "prompt_number": 1
    },
    {
     "cell_type": "code",
     "collapsed": false,
     "input": [],
     "language": "python",
     "metadata": {},
     "outputs": []
    }
   ],
   "metadata": {}
  }
 ]
}