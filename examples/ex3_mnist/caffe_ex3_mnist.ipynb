{
 "metadata": {
  "name": ""
 },
 "nbformat": 3,
 "nbformat_minor": 0,
 "worksheets": [
  {
   "cells": [
    {
     "cell_type": "heading",
     "level": 2,
     "metadata": {},
     "source": [
      "MNIST \ub370\uc774\ud130\uc14b \ubc0f LMDB \uc900\ube44"
     ]
    },
    {
     "cell_type": "markdown",
     "metadata": {},
     "source": [
      "\uc774\ubc88\uc5d0\ub294 MNIST \ub370\uc774\ud130\uc14b \ubc0f LMDB\uc5d0 \ub300\ud574\uc11c \uc54c\uc544\ubd05\ub2c8\ub2e4. MNIST \ub370\uc774\ud130\ub294 \uae30\uacc4\ud559\uc2b5\uc5d0\uc11c \ub300\ud45c\uc801\uc73c\ub85c \ub9ce\uc774 \uc0ac\uc6a9\ub418\ub294 \ubca4\uce58\ub9c8\ud0b9 \ub370\uc774\ud130\uc785\ub2c8\ub2e4. 28 0\uc5d0\uc11c\ubd80\ud130 9\uae4c\uc9c0 10\uac00\uc9c0\uc758 \uc190\uae00\uc528 \uc774\ubbf8\uc9c0\uac00 \uc788\ub294\ub370\uc694. \uc774\ubbf8\uc9c0 \ud06c\uae30\ub294 28x28, \ud2b8\ub808\uc774\ub2dd \uc774\ubbf8\uc9c0\ub294 60,000\uc7a5, \ud14c\uc2a4\ud2b8 \uc774\ubbf8\uc9c0\ub294 10,000\uc7a5\uc73c\ub85c \uc774\ub8e8\uc5b4\uc838 \uc788\uc2b5\ub2c8\ub2e4. \uc790\uc138\ud55c \ub0b4\uc6a9\uc740 MNIST [\uacf5\uc2dd \ud398\uc774\uc9c0](http://yann.lecun.com/exdb/mnist/\n",
      ")\ub97c \ucc38\uace0\ud558\uc138\uc694.\n",
      "\n",
      "\uc774\ubc88 \uc2dc\uac04\uc5d0\ub294 Caffe\uc5d0\uc11c \uc0ac\uc6a9\ud558\ub294 LMDB\ud3ec\uba67\uc744 \uc774\uc6a9\ud558\uc5ec MNIST \ub370\uc774\ud130\ub97c \uc77d\uc5b4\ubcf4\uace0 python\uc744 \uc774\uc6a9\ud558\uc5ec \uc2dc\uac01\ud654\ub97c \ud574\ubcf4\ub3c4\ub85d \ud558\uaca0\uc2b5\ub2c8\ub2e4."
     ]
    },
    {
     "cell_type": "heading",
     "level": 3,
     "metadata": {},
     "source": [
      "MNIST \ub370\uc774\ud130\uc14b \ub2e4\uc6b4\ub85c\ub4dc"
     ]
    },
    {
     "cell_type": "markdown",
     "metadata": {},
     "source": [
      "\uce74\ud398 \uc18c\uc2a4\uc5d0\ub294 \uc5ec\ub7ec\uac00\uc9c0 \uc720\uc6a9\ud55c \ud234\ub4e4\uc744 \uc81c\uacf5\ud559 \uc788\ub294\ub370\uc694. \uadf8 \uc911\uc758 \ud558\ub098\uac00 \ub370\uc774\ud130\uc14b\uc744 \ub2e4\uc6b4\ub85c\ub4dc \ubc1b\uc544\uc11c LMDB\ub85c \ubcc0\ud658\ud558\ub294 \uc791\uc5c5\uc785\ub2c8\ub2e4. \uba3c\uc800 \uc544\ub798\uc640 \uac19\uc774 \uce74\ud398\uc758 \ud648\ud3f4\ub354(\uc5ec\uae30\uc11c\ub294 `your_caffe_home` \uc774\ub77c \ud558\uaca0\uc2b5\ub2c8\ub2e4.) \uc544\ub798\uc5d0 \uc788\ub294 mnist \ud3f4\ub354\ub85c \uc774\ub3d9\ud574\uc11c `get_mnist` \ud569\ub2c8\ub2e4."
     ]
    },
    {
     "cell_type": "markdown",
     "metadata": {},
     "source": [
      "```    \n",
      "cd your_caffe_home/data/mnist\n",
      "./get_mnist.sh\n",
      "```"
     ]
    },
    {
     "cell_type": "markdown",
     "metadata": {},
     "source": [
      "\ud3f4\ub354 \uc548\uc5d0 4\uac1c \ud30c\uc77c (t10k-images-idx3-ubyte, t10k-labels-idx1-ubyte, train-images-idx3-ubyte,\n",
      "train-labels-idx1-ubyte) \uc774 \ub2e4\uc6b4\ub85c\ub4dc \ub41c\uac83\uc744 \ud655\uc778\ud560 \uc218 \uc788\uc2b5\ub2c8\ub2e4."
     ]
    },
    {
     "cell_type": "heading",
     "level": 3,
     "metadata": {},
     "source": [
      "LMDB \ubcc0\ud658"
     ]
    },
    {
     "cell_type": "markdown",
     "metadata": {},
     "source": [
      "\uc774\ubc88\uc5d0\ub294 LMDB \ud30c\uc77c\ub85c \ubcc0\ud658\ud574 \ubcf4\ub3c4\ub85d \ud558\uaca0\uc2b5\ub2c8\ub2e4. \ubcc0\ud658 \ud234\uc740 \ud648\ud3f4\ub354 \uc544\ub798\uc5d0 \uc788\ub294 examples/mnist \ud3f4\ub354 \uc548\uc5d0 \uc788\uc2b5\ub2c8\ub2e4. \ud55c\ubc88 \uc2e4\ud589\ud574 \ubcf4\uc8e0. "
     ]
    },
    {
     "cell_type": "markdown",
     "metadata": {},
     "source": [
      "```\n",
      "cd your_caffe_home\n",
      "sh examples/mnist/create_mnist.sh\n",
      "```"
     ]
    },
    {
     "cell_type": "markdown",
     "metadata": {},
     "source": [
      "\uadf8\ub7fc \ub450 \uac1c\uc758 \ud3f4\ub354 (mnist_test_lmdb, mnist_train_lmdb)\uac00 \uc0dd\uc131\ub41c\uac78 \ud655\uc778\ud560 \uc218 \uc788\uc2b5\ub2c8\ub2e4. \uac01 \ud3f4\ub354\uc5d0\ub294 LMDB \ud615\ud0dc\ub85c \ud2b8\ub808\uc774\ub2dd \ub370\uc774\ud130\uc640 \ud14c\uc2a4\ud2b8 \ub370\uc774\ud130\uac00 \uc0dd\uc131\ub418\uc5b4 \uc788\uc2b5\ub2c8\ub2e4. \uc774\ub7f0 \uc2dd\uc73c\ub85c \uce74\ud398\uc5d0\uc11c\ub294 \uacf5\uc2dd\uc801\uc73c\ub85c LMDB \ub610\ub294 LevelDB \ud3ec\uba67\uc744 \ub370\uc774\ud130\ub85c \uc0ac\uc6a9\ud569\ub2c8\ub2e4. \uc784\uc758\uc758 \ub370\uc774\ud130\ub294 \ub458 \uc911 \ud558\ub098\uc758 \ud3ec\uba67\uc73c\ub85c \ubcc0\ud658\ud55c \ud6c4\uc5d0 \uc0ac\uc6a9\ud574\uc57c \ud558\ub294\ub370\uc694. \ubcc0\ud658\ud558\ub294 C++ \ucf54\ub4dc\ub294 \ub2e4\uc74c\ubc88\uc5d0 \ud55c\ubc88 \uc54c\uc544\ubcf4\ub3c4\ub85d \ud558\uaca0\uc2b5\ub2c8\ub2e4. "
     ]
    },
    {
     "cell_type": "heading",
     "level": 2,
     "metadata": {},
     "source": [
      "Python code"
     ]
    },
    {
     "cell_type": "raw",
     "metadata": {},
     "source": [
      "\uc774\ubc88\uc5d0\ub294 \ud30c\uc774\uc36c\uc744 \uc774\uc6a9\ud558\uc5ec LMDB\ub85c \ubcc0\ud658\ub41c MNIST \ub370\uc774\ud130\uc14b\uc744 \uc77d\uc5b4\uc624\uace0 \uc2dc\uac01\ud654\ud558\uc5ec \ub370\uc774\ud130\ub97c \uc9c1\uc811 \uc0b4\ud3b4\ubcf4\ub3c4\ub85d \ud558\uaca0\uc2b5\ub2c8\ub2e4. \uc774 \uac15\uc758\ub294 C++\uc744 \uae30\ubc18\uc73c\ub85c \ub418\uc5b4 \uc788\uc9c0\ub9cc, \uac04\uac04\ud788 \ud30c\uc774\uc36c\uc744 \uc720\uc6a9\ud558\uac8c \uc0ac\uc6a9\ud558\ub824\uace0 \ud569\ub2c8\ub2e4. \ucc98\uc74c \uc811\ud558\uc2dc\ub294 \ubd84\uc740 \uc720\uc6a9\ud55c \ud234\uc774 \ub9ce\uc73c\ub2c8 \uc774\ubc88 \uae30\ud68c\uc5d0 \ud30c\uc774\uc36c\uc744 \ud55c\ubc88 \uc811\ud574\ubcf4\uc138\uc694. "
     ]
    },
    {
     "cell_type": "heading",
     "level": 3,
     "metadata": {},
     "source": [
      "LMDB \ub77c\uc774\ube0c\ub7ec\ub9ac \uc124\uce58 "
     ]
    },
    {
     "cell_type": "markdown",
     "metadata": {},
     "source": [
      "\uba3c\uc800 lmdb\ub97c \uc124\uce58\ud569\ub2c8\ub2e4. \uc790\uc138\ud55c \uc124\uce58\ubc95\uc740 [\uacf5\uc2dd\uc0ac\uc774\ud2b8](https://lmdb.readthedocs.org/en/release/)\ub97c \ucc38\uc870\ud558\uc2dc\uace0, \uc5ec\uae30\uc11c\ub294 \uc6b0\ubd84\ud22c\ub97c \uae30\ubc18\uc73c\ub85c \ucf54\ub4dc \uba87 \uc904\ub9cc \uc801\uc2b5\ub2c8\ub2e4. Python Package \uad00\ub9ac \ud504\ub85c\uadf8\ub7a8 [pip](https://pypi.python.org/pypi/pip)\uc774 \uc5c6\uc73c\uc2e0 \ubd84\ub4e4\uc740 \uba3c\uc800 \uc124\uce58\ud558\uc2dc\uae30 \ubc14\ub78d\ub2c8\ub2e4."
     ]
    },
    {
     "cell_type": "markdown",
     "metadata": {},
     "source": [
      "```\n",
      "apt-get install libffi-dev python-dev build-essential\n",
      "pip install lmdb\n",
      "```"
     ]
    },
    {
     "cell_type": "heading",
     "level": 3,
     "metadata": {},
     "source": [
      "Python code"
     ]
    },
    {
     "cell_type": "markdown",
     "metadata": {},
     "source": [
      "\uc774\uc81c\ubd80\ud130 \ubcf8\uaca9\uc801\uc778 \ud30c\uc774\uc36c \ucf54\ub529\uc744 \ud569\ub2c8\ub2e4. \uc120\ud638\ud558\uc2dc\ub294 \ud30c\uc774\uc36c \uc5d0\ub514\ud130\ub97c \uc5f4\uc5b4\uc11c \uc544\ub798 \ucf54\ub4dc\ub4e4\uc744 \ucc28\ub840\ub85c \uc2e4\ud589\ud574\ubcf4\uc138\uc694. \uc800\ub294 \uac1c\uc778\uc801\uc73c\ub85c [ipython notebook](http://ipython.org/notebook.html)\uc744 \uc120\ud638\ud569\ub2c8\ub2e4. \uc774 \uac15\uc88c\ub3c4 IP notebook\uc744 \uc774\uc6a9\ud558\uc5ec \uc791\uc131\ud558\uc600\uc2b5\ub2c8\ub2e4. "
     ]
    },
    {
     "cell_type": "markdown",
     "metadata": {},
     "source": [
      "LMDB \ubc0f \uce74\ud398 \ud30c\uc774\uc36c \ub77c\uc774\ube0c\ub7ec\ub9ac import"
     ]
    },
    {
     "cell_type": "code",
     "collapsed": false,
     "input": [
      "# for ipython notebook\n",
      "%matplotlib inline  \n",
      "your_caffe_home = '/home/koosy/caffe/caffe'   # example\n",
      "\n",
      "import numpy as np\n",
      "import matplotlib.pyplot as plt\n",
      "import lmdb\n",
      "import sys\n",
      "sys.path.insert(0, your_caffe_home + 'python')\n",
      "import caffe"
     ],
     "language": "python",
     "metadata": {},
     "outputs": [],
     "prompt_number": 66
    },
    {
     "cell_type": "markdown",
     "metadata": {},
     "source": [
      "LMDB \ub370\uc774\ud130 \uc14b \uc5f4\uae30"
     ]
    },
    {
     "cell_type": "code",
     "collapsed": false,
     "input": [
      "lmdb_train = lmdb.open(your_caffe_home + '/examples/mnist/mnist_train_lmdb', readonly=True)\n",
      "lmdb_test = lmdb.open(your_caffe_home + '/examples/mnist/mnist_test_lmdb', readonly=True)"
     ],
     "language": "python",
     "metadata": {},
     "outputs": [],
     "prompt_number": 67
    },
    {
     "cell_type": "markdown",
     "metadata": {},
     "source": [
      "\uc774\uc81c, `lmdb_train`\uacfc `lmdb_test`\uc548\uc5d0 \ub370\uc774\ud130\uc14b\uc774 \ub4e4\uc5b4\uc640 \uc788\uc2b5\ub2c8\ub2e4. \ud2b8\ub808\uc774\ub2dd \ub370\uc774\ud130\uc5d0\ub294 60,000\uc7a5\uc758 \uc774\ubbf8\uc9c0\uc640 \ub77c\ubca8\uc774, \ud14c\uc2a4\ud2b8 \ub370\uc774\ud130\uc5d0\ub294 10,000\uc7a5\uc758 \uc774\ubbf8\uc9c0\uc640 \ub77c\ubca8\uc774 \ub4e4\uc5b4 \uc788\uc744\ud150\ub370\uc694. \uc608\uc81c\ub85c \uac01 \ub370\uc774\ud130\uc14b\uc758 \uccab\ubc88\uc9f8 \uadf8\ub9ac\uace0 \ub9c8\uc9c0\ub9c9 \ub370\uc774\ud130\ub97c \uc811\uadfc\ud574\uc11c \uc77d\uc5b4\ubcf4\ub3c4\ub85d \ud558\uaca0\uc2b5\ub2c8\ub2e4. \uc811\uadfc\uc744 \uc704\ud574 8\ubc14\uc774\ud2b8\uc758 \uc778\ub371\uc2a4 \ud0a4\ub97c \uc0ac\uc6a9\ud569\ub2c8\ub2e4. "
     ]
    },
    {
     "cell_type": "code",
     "collapsed": false,
     "input": [
      "start_train = lmdb_train.begin().get('00000000')\n",
      "end_train = lmdb_train.begin().get('00059999')\n",
      "start_test = lmdb_test.begin().get('00000000')\n",
      "end_test = lmdb_test.begin().get('00009999')"
     ],
     "language": "python",
     "metadata": {},
     "outputs": [],
     "prompt_number": 68
    },
    {
     "cell_type": "markdown",
     "metadata": {},
     "source": [
      "\uc774\uc81c `start_train` \ubd80\ud130 `end_test` \uae4c\uc9c0\ub294 \uc774\ubbf8\uc9c0 \ubc0f \ub77c\ubca8 \uc815\ubcf4\uac00 \ub4e4\uc5b4\uac00 \uc788\ub294\ub370\uc694. \ub370\uc774\ud130\ub4e4\uc774 LMDB\uc5d0 \uc800\uc7a5\ub420 \ub54c \uc0ac\uc6a9\ub41c \uaddc\uce59\uc5d0 \ub530\ub77c \uc77c\ub82c\ud654\ub41c \ubb38\uc790\uc5f4\ub85c \uc800\uc7a5\uc774 \ub418\uc5b4 \uc788\uc2b5\ub2c8\ub2e4. \uac01 \ubb38\uc790\uc5f4\ub9cc \ubd10\uc11c\ub294 \ubb34\uc2a8 \uc815\ubcf4\uac00 \ub4e4\uc5b4\uc788\ub294\uc9c0 \uc54c \uc218 \uc5c6\uaca0\uc8e0? \uce74\ud398\uc5d0\uc11c\ub294 Datum \uc774\ub77c\ub294 \ub370\uc774\ud130 \uad6c\uc870\ub97c \uac00\uc9c0\uace0 MNIST \ub370\uc774\ud130\ub97c \uc77d\uc5b4\uc11c LMDB\uc5d0 \uc800\uc7a5\ud588\ub294\ub370\uc694, \uce74\ud398\uc5d0\uc11c \uc815\uc758\ud55c \ub370\uc774\ud130 \uad6c\uc870\ub97c \uc790\uc138\ud788 \uc54c\uace0 \uc2f6\uc73c\uc2dc\uba74 [caffe.proto](https://github.com/BVLC/caffe/blob/master/src/caffe/proto/caffe.proto)\ub97c \uc0b4\ud3b4\ubcf4\uc138\uc694. Datum \uc678\uc5d0\ub3c4 \uce74\ud398\uc5d0\uc11c \uc0ac\uc6a9\ud558\ub294 \ub2e4\ub978 \ubcc0\uc218 \ud0c0\uc785\uc758 \uc815\uc758\ub97c \ud55c \ub208\uc5d0 \ubcf4\uc2e4 \uc218 \uc788\uc2b5\ub2c8\ub2e4. "
     ]
    },
    {
     "cell_type": "markdown",
     "metadata": {},
     "source": [
      "\uadf8\ub7fc \uc774\ubc88\uc5d0\ub294 Datum\uc744 \uc774\uc6a9\ud558\uc5ec \ub370\uc774\ud130\ub97c \uc800\uc7a5\ud574 \ubcf4\ub3c4\ub85d \ud558\uaca0\uc2b5\ub2c8\ub2e4. `ParseFromString` \uc774\ub77c\ub294 \ud568\uc218\ub85c LMDB\uc758 \ubb38\uc790\uc5f4 \ub370\uc774\ud130\ub97c \ud574\uc11d\ud558\uace0 Datum\uc5d0 \uc800\uc7a5\ud569\ub2c8\ub2e4. "
     ]
    },
    {
     "cell_type": "code",
     "collapsed": false,
     "input": [
      "datum_train_start = caffe.proto.caffe_pb2.Datum()\n",
      "datum_train_start.ParseFromString(start_train)"
     ],
     "language": "python",
     "metadata": {},
     "outputs": [],
     "prompt_number": 69
    },
    {
     "cell_type": "markdown",
     "metadata": {},
     "source": [
      "\uba3c\uc800 `datum_train_start` \uc548\uc5d0 \uad6c\uc870\uac00 \uc5b4\ub5bb\uac8c \ub418\uc5b4 \uc788\ub294\uc9c0 \ud55c\ubc88 \uc0b4\ud3b4\ubcfc\uae4c\uc694? ipython\uc5d0\uc11c\ub294 `datum_train_start?` \ub77c\uace0 \uce58\uba74 \ub370\uc774\ud130 \uc548\uc758 \uac12 \ubc0f \uc124\uba85\uc744 \ubcfc \uc218\uac00 \uc788\uc2b5\ub2c8\ub2e4. "
     ]
    },
    {
     "cell_type": "code",
     "collapsed": false,
     "input": [
      "datum_train_start?"
     ],
     "language": "python",
     "metadata": {},
     "outputs": [],
     "prompt_number": 70
    },
    {
     "cell_type": "raw",
     "metadata": {},
     "source": [
      "channels: 1\n",
      "height: 28\n",
      "width: 28\n",
      "data: \"\\000\\000\\000\\000\\000\\000\\000\\000\\000\\000\\000\\000\\000\\000\\ <...> 00\\000\\000\\000\\000\\000\\000\\000\\000\\000\\000\\000\\000\\000\\000\\000\\000\\000\\000\\000\\000\\000\"\n",
      "label: 5"
     ]
    },
    {
     "cell_type": "markdown",
     "metadata": {},
     "source": [
      "\ubcf4\uc2dc\ub2e4\uc2dc\ud53c \ud558\ub098\uc758 Datum\uc740  channels, height, width, data, label \uc73c\ub85c \uc774\ub8e8\uc5b4\uc838 \uc788\uc2b5\ub2c8\ub2e4. \uc989 \uc55e\uc758 \uc608\uc81c\uc5d0\uc11c \uc0b4\ud3b4\ubcf8 blob\uc758 \uad6c\uc870 \uc911\uc5d0\uc11c \uccab\ubc88\uc9f8 \ucc28\uc6d0\uc778 numbers \ub97c \uc81c\uc678\ud55c 3\ucc28\uc6d0 \uad6c\uc870 + label \ub370\uc774\ud130\ub97c \ub2f4\uc744 \uc218 \uc788\ub294\ub370\uc694, \uc2e4\uc81c \ub370\uc774\ud130\ub294 1\ucc28\uc6d0 \uc2a4\ud2b8\ub9c1\uc73c\ub85c \ub418\uc5b4\uc788\uace0, \ucc28\uc6d0 \uc815\ubcf4\ub9cc \uc788\uc74c\uc744 \uc54c \uc218 \uc788\uc2b5\ub2c8\ub2e4. "
     ]
    },
    {
     "cell_type": "markdown",
     "metadata": {},
     "source": [
      "\uc774\ubc88\uc5d0\ub294 Datum\uc5d0 \uba85\uc2dc\ub41c\ub370\ub85c(1 x 28 x 28) \ub370\uc774\ud130\ub97c \ub2e4\ucc28\uc6d0 \ubc30\uc5f4\ub85c \ubcf5\uad6c\ud574 \ubcf4\uaca0\uc2b5\ub2c8\ub2e4. numpy\ub97c \uc774\uc6a9\ud558\uc5ec unsigned int \ud0c0\uc785\uc73c\ub85c \ubcc0\ud658\ud558\uace0, `reshape()` \uba85\ub839\uc744 \uc0ac\uc6a9\ud574\uc11c \ucc28\uc6d0 \ubcc0\ud658\uc744 \ud569\ub2c8\ub2e4. "
     ]
    },
    {
     "cell_type": "code",
     "collapsed": false,
     "input": [
      "flat_x = np.fromstring(datum_train_start.data, dtype=np.uint8)\n",
      "x = flat_x.reshape(datum_train_start.height, datum_train_start.width)"
     ],
     "language": "python",
     "metadata": {},
     "outputs": [],
     "prompt_number": 71
    },
    {
     "cell_type": "markdown",
     "metadata": {},
     "source": [
      "`x`\uac00 2\ucc28\uc6d0 \ubc30\uc5f4\ub85c \uc798 \ubcc0\ud658\uc774 \ub418\uc5c8\ub098 \ud655\uc778\ud574 \ubd05\uc2dc\ub2e4."
     ]
    },
    {
     "cell_type": "code",
     "collapsed": false,
     "input": [
      "x.shape"
     ],
     "language": "python",
     "metadata": {},
     "outputs": [
      {
       "metadata": {},
       "output_type": "pyout",
       "prompt_number": 72,
       "text": [
        "(28, 28)"
       ]
      }
     ],
     "prompt_number": 72
    },
    {
     "cell_type": "markdown",
     "metadata": {},
     "source": [
      "\uc774\ubc88\uc5d0\ub294 matplotlib.pyplot\uc758 `imshow` \uba85\ub839\uc744 \uc0ac\uc6a9\ud574\uc11c \uc774\ucc28\uc6d0 \uc774\ubbf8\uc9c0 \ub370\uc774\ud130\ub97c \uc2dc\uac01\ud654\ud574 \ubd05\uc2dc\ub2e4. \ud2b8\ub808\uc774\ub2dd \ub370\uc774\ud130\uc14b\uc758 \uccab \ubc88\uc9f8 \uc774\ubbf8\uc9c0\ub294 \uc544\ub798 \ubcf4\ub294\uac83\uacfc \uac19\uc774 \uc22b\uc790 5\uc774\uad70\uc694.  "
     ]
    },
    {
     "cell_type": "code",
     "collapsed": false,
     "input": [
      "plt.rcParams['image.interpolation'] = 'none'\n",
      "plt.rcParams['image.cmap'] = 'gray'\n",
      "plt.imshow(x)"
     ],
     "language": "python",
     "metadata": {},
     "outputs": [
      {
       "metadata": {},
       "output_type": "pyout",
       "prompt_number": 75,
       "text": [
        "<matplotlib.image.AxesImage at 0x7fb8e8978f10>"
       ]
      },
      {
       "metadata": {},
       "output_type": "display_data",
       "png": "[encoded data removed]",
       "text": [
        "<matplotlib.figure.Figure at 0x7fb8dfc5d410>"
       ]
      }
     ],
     "prompt_number": 75
    },
    {
     "cell_type": "markdown",
     "metadata": {},
     "source": [
      "`datum_train_start`\uc5d0 \uc800\uc7a5\ub41c \ub77c\ubca8\uac12\ub3c4 \uac19\uc740\uc9c0 \ud655\uc778\ud574 \ubd05\uc2dc\ub2e4."
     ]
    },
    {
     "cell_type": "code",
     "collapsed": false,
     "input": [
      "datum_train_start.label"
     ],
     "language": "python",
     "metadata": {},
     "outputs": [
      {
       "metadata": {},
       "output_type": "pyout",
       "prompt_number": 76,
       "text": [
        "5"
       ]
      }
     ],
     "prompt_number": 76
    },
    {
     "cell_type": "heading",
     "level": 2,
     "metadata": {},
     "source": [
      "\ub9fa\uc74c\ub9d0"
     ]
    },
    {
     "cell_type": "markdown",
     "metadata": {},
     "source": [
      "\uc774\ubc88 \uac15\uc88c\uc5d0\uc11c\ub294 LMDB\ub85c \ubcc0\ud658\ud55c MNIST \ub370\uc774\ud130\uc14b\uc744 \ud30c\uc774\uc36c\uc73c\ub85c \uc77d\uc5b4\uc624\uace0, \uce74\ud398 \ud30c\uc774\uc36c \ub77c\uc774\ube0c\ub7ec\ub9ac\ub97c \uc774\uc6a9\ud558\uc5ec \uac01 \ub370\uc774\ud130\uc640 \ub77c\ubca8\uc744 \uc77d\uace0 \uc2dc\uac01\ud654 \ud574\uc11c \ud655\uc778\ud574 \ubcf4\uc558\uc2b5\ub2c8\ub2e4. Datum \uc774\ub77c\ub294 \uce74\ud398\uc5d0\uc11c \uc0ac\uc6a9\ud558\ub294 \ub370\uc774\ud130\uad6c\uc870\uac00 \ub370\uc774\ud130\ub97c \ub370\uc774\ud130\ubca0\uc774\uc2a4\uc5d0 \uc800\uc7a5\ud558\uac70\ub098 \uc77d\uc5b4\uc624\ub294 \uc778\ud130\ud398\uc774\uc2a4 \uc5ed\ud560\uc744 \ud558\ub294\uac83\ub3c4 \uc54c\uc544\ubcf4\uc558\uc2b5\ub2c8\ub2e4. \ub2e4\uc74c\ubc88\uc5d0\ub294 C++ \ucf54\ub4dc\uc5d0\uc11c \uac01 Datum\uc744 \uc5b4\ub5bb\uac8c Blob\uc73c\ub85c \ub9cc\ub4dc\ub294\uc9c0, \uadf8\ub9ac\uace0 \uc774\ub807\uac8c \uc77d\uc740 MNIST \ub370\uc774\ud130\ub97c \uc2e4\uc81c\ub85c \ud65c\uc6a9\ud558\uc5ec \uba38\uc2e0\ub7ec\ub2dd \uc54c\uace0\ub9ac\uc998\ub4e4\uc744 \uad6c\ud604\ud574 \ubcf4\ub3c4\ub85d \ud558\uaca0\uc2b5\ub2c8\ub2e4."
     ]
    },
    {
     "cell_type": "code",
     "collapsed": false,
     "input": [],
     "language": "python",
     "metadata": {},
     "outputs": []
    }
   ],
   "metadata": {}
  }
 ]
}